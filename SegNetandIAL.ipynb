{
  "cells": [
    {
      "cell_type": "code",
      "execution_count": 1,
      "metadata": {
        "colab": {
          "base_uri": "https://localhost:8080/"
        },
        "id": "OJzdAgxE87v9",
        "outputId": "bb2cbaaa-8bd0-4540-e6f8-89a470c975c6"
      },
      "outputs": [
        {
          "output_type": "stream",
          "name": "stdout",
          "text": [
            "Collecting pytorch-ignite\n",
            "  Downloading pytorch_ignite-0.4.7-py3-none-any.whl (240 kB)\n",
            "\u001b[?25l\r\u001b[K     |█▍                              | 10 kB 17.0 MB/s eta 0:00:01\r\u001b[K     |██▊                             | 20 kB 23.6 MB/s eta 0:00:01\r\u001b[K     |████                            | 30 kB 12.8 MB/s eta 0:00:01\r\u001b[K     |█████▌                          | 40 kB 9.5 MB/s eta 0:00:01\r\u001b[K     |██████▉                         | 51 kB 6.9 MB/s eta 0:00:01\r\u001b[K     |████████▏                       | 61 kB 7.3 MB/s eta 0:00:01\r\u001b[K     |█████████▌                      | 71 kB 7.5 MB/s eta 0:00:01\r\u001b[K     |███████████                     | 81 kB 5.8 MB/s eta 0:00:01\r\u001b[K     |████████████▎                   | 92 kB 5.3 MB/s eta 0:00:01\r\u001b[K     |█████████████▋                  | 102 kB 5.8 MB/s eta 0:00:01\r\u001b[K     |███████████████                 | 112 kB 5.8 MB/s eta 0:00:01\r\u001b[K     |████████████████▍               | 122 kB 5.8 MB/s eta 0:00:01\r\u001b[K     |█████████████████▊              | 133 kB 5.8 MB/s eta 0:00:01\r\u001b[K     |███████████████████             | 143 kB 5.8 MB/s eta 0:00:01\r\u001b[K     |████████████████████▌           | 153 kB 5.8 MB/s eta 0:00:01\r\u001b[K     |█████████████████████▉          | 163 kB 5.8 MB/s eta 0:00:01\r\u001b[K     |███████████████████████▏        | 174 kB 5.8 MB/s eta 0:00:01\r\u001b[K     |████████████████████████▌       | 184 kB 5.8 MB/s eta 0:00:01\r\u001b[K     |██████████████████████████      | 194 kB 5.8 MB/s eta 0:00:01\r\u001b[K     |███████████████████████████▎    | 204 kB 5.8 MB/s eta 0:00:01\r\u001b[K     |████████████████████████████▋   | 215 kB 5.8 MB/s eta 0:00:01\r\u001b[K     |██████████████████████████████  | 225 kB 5.8 MB/s eta 0:00:01\r\u001b[K     |███████████████████████████████▍| 235 kB 5.8 MB/s eta 0:00:01\r\u001b[K     |████████████████████████████████| 240 kB 5.8 MB/s \n",
            "\u001b[?25hRequirement already satisfied: torch<2,>=1.3 in /usr/local/lib/python3.7/dist-packages (from pytorch-ignite) (1.10.0+cu111)\n",
            "Requirement already satisfied: typing-extensions in /usr/local/lib/python3.7/dist-packages (from torch<2,>=1.3->pytorch-ignite) (3.10.0.2)\n",
            "Installing collected packages: pytorch-ignite\n",
            "Successfully installed pytorch-ignite-0.4.7\n"
          ]
        }
      ],
      "source": [
        "#install pytorch-ignite to get the metrics \n",
        "!pip install pytorch-ignite"
      ]
    },
    {
      "cell_type": "code",
      "execution_count": null,
      "metadata": {
        "id": "NpgA0igUUyX4"
      },
      "outputs": [],
      "source": [
        "# importing all the required libraries\n",
        "import os\n",
        "import cv2\n",
        "import glob\n",
        "import torch\n",
        "import numpy as np\n",
        "import pandas as pd\n",
        "import seaborn as sns\n",
        "import matplotlib.pyplot as plt\n",
        "from tqdm import tqdm\n",
        "from ignite.metrics.confusion_matrix import ConfusionMatrix\n",
        "from ignite.metrics import mIoU, IoU\n",
        "\n",
        "import torchvision.transforms as transforms\n",
        "import torchvision.datasets as datasets\n",
        "\n",
        "import torch.nn as nn\n",
        "import torch.nn.functional as F\n",
        "import torchvision\n",
        "import random\n",
        "from random import randint\n",
        "from torch import optim\n",
        "\n",
        "# Make numpy printouts easier to read.\n",
        "np.set_printoptions(precision=3, suppress=True)"
      ]
    },
    {
      "cell_type": "markdown",
      "metadata": {
        "id": "EcrRK4r2ZgsB"
      },
      "source": [
        "# Prepare Dataset"
      ]
    },
    {
      "cell_type": "code",
      "execution_count": null,
      "metadata": {
        "colab": {
          "base_uri": "https://localhost:8080/"
        },
        "id": "QS9gqYLZVCkz",
        "outputId": "0db26005-4b81-411f-bbac-7ec9248d8abb"
      },
      "outputs": [
        {
          "output_type": "stream",
          "name": "stdout",
          "text": [
            "Mounted at /content/gdrive\n"
          ]
        }
      ],
      "source": [
        "#mounting google drive to access the dataset \n",
        "from google.colab import drive\n",
        "drive.mount('/content/gdrive')"
      ]
    },
    {
      "cell_type": "code",
      "execution_count": null,
      "metadata": {
        "id": "FubBQ-jSVIy4"
      },
      "outputs": [],
      "source": [
        "#loading training and validation datasets, test dataset doesn't have annotations so we will use split traning data into train and test data\n",
        "train_label_data_path  = '/content/gdrive/MyDrive/DL dataset/gtfine/gtFine_trainvaltest/gtFine/train'\n",
        "valid_label_data_path  = '/content/gdrive/MyDrive/DL dataset/gtfine/gtFine_trainvaltest/gtFine/val'\n",
        "train_img_path  = '/content/gdrive/My Drive/DL dataset/leftimg/leftImg8bit/leftImg8bit/train'\n",
        "valid_img_path  = '/content/gdrive/My Drive/DL dataset/leftimg/leftImg8bit/leftImg8bit/val'"
      ]
    },
    {
      "cell_type": "code",
      "execution_count": null,
      "metadata": {
        "id": "k1uja1j2VQwn"
      },
      "outputs": [],
      "source": [
        "train_labels = sorted(glob.glob(train_label_data_path+\"/*/*_labelIds.png\"))\n",
        "valid_labels = sorted(glob.glob(valid_label_data_path+\"/*/*_labelIds.png\"))\n",
        "train_inp = sorted(glob.glob(train_img_path+\"/*/*.png\"))\n",
        "valid_inp = sorted(glob.glob(valid_img_path+\"/*/*.png\")) "
      ]
    },
    {
      "cell_type": "code",
      "execution_count": null,
      "metadata": {
        "id": "qNymkfbpVi3r"
      },
      "outputs": [],
      "source": [
        "from collections import namedtuple\n",
        "\n",
        "## from labels.py file\n",
        "# a label and all meta information\n",
        "Label = namedtuple( 'Label' , [\n",
        "\n",
        "    'name'        , # The identifier of this label, e.g. 'car', 'person', ... .\n",
        "                    # We use them to uniquely name a class\n",
        "\n",
        "    'id'          , # An integer ID that is associated with this label.\n",
        "                    # The IDs are used to represent the label in ground truth images\n",
        "                    # An ID of -1 means that this label does not have an ID and thus\n",
        "                    # is ignored when creating ground truth images (e.g. license plate).\n",
        "                    # Do not modify these IDs, since exactly these IDs are expected by the\n",
        "                    # evaluation server.\n",
        "\n",
        "    'trainId'     , # Feel free to modify these IDs as suitable for your method. Then create\n",
        "                    # ground truth images with train IDs, using the tools provided in the\n",
        "                    # 'preparation' folder. However, make sure to validate or submit results\n",
        "                    # to our evaluation server using the regular IDs above!\n",
        "                    # For trainIds, multiple labels might have the same ID. Then, these labels\n",
        "                    # are mapped to the same class in the ground truth images. For the inverse\n",
        "                    # mapping, we use the label that is defined first in the list below.\n",
        "                    # For example, mapping all void-type classes to the same ID in training,\n",
        "                    # might make sense for some approaches.\n",
        "                    # Max value is 255!\n",
        "\n",
        "    'category'    , # The name of the category that this label belongs to\n",
        "\n",
        "    'categoryId'  , # The ID of this category. Used to create ground truth images\n",
        "                    # on category level.\n",
        "\n",
        "    'hasInstances', # Whether this label distinguishes between single instances or not\n",
        "\n",
        "    'ignoreInEval', # Whether pixels having this class as ground truth label are ignored\n",
        "                    # during evaluations or not\n",
        "\n",
        "    'color'       , # The color of this label\n",
        "    ] )\n",
        "\n",
        "\n",
        "#--------------------------------------------------------------------------------\n",
        "# A list of all labels\n",
        "#--------------------------------------------------------------------------------\n",
        "\n",
        "# Please adapt the train IDs as appropriate for your approach.\n",
        "# Note that you might want to ignore labels with ID 255 during training.\n",
        "# Further note that the current train IDs are only a suggestion. You can use whatever you like.\n",
        "# Make sure to provide your results using the original IDs and not the training IDs.\n",
        "# Note that many IDs are ignored in evaluation and thus you never need to predict these!\n",
        "\n",
        "labels = [\n",
        "    #       name                     id    trainId   category            catId     hasInstances   ignoreInEval   color\n",
        "    Label(  'unlabeled'            ,  0 ,      255 , 'void'            , 0       , False        , True         , (  0,  0,  0) ),\n",
        "    Label(  'ego vehicle'          ,  1 ,      255 , 'void'            , 0       , False        , True         , (  0,  0,  0) ),\n",
        "    Label(  'rectification border' ,  2 ,      255 , 'void'            , 0       , False        , True         , (  0,  0,  0) ),\n",
        "    Label(  'out of roi'           ,  3 ,      255 , 'void'            , 0       , False        , True         , (  0,  0,  0) ),\n",
        "    Label(  'static'               ,  4 ,      255 , 'void'            , 0       , False        , True         , (  0,  0,  0) ),\n",
        "    Label(  'dynamic'              ,  5 ,      255 , 'void'            , 0       , False        , True         , (111, 74,  0) ),\n",
        "    Label(  'ground'               ,  6 ,      255 , 'void'            , 0       , False        , True         , ( 81,  0, 81) ),\n",
        "    Label(  'road'                 ,  7 ,        0 , 'flat'            , 1       , False        , False        , (128, 64,128) ),\n",
        "    Label(  'sidewalk'             ,  8 ,        1 , 'flat'            , 1       , False        , False        , (244, 35,232) ),\n",
        "    Label(  'parking'              ,  9 ,      255 , 'flat'            , 1       , False        , True         , (250,170,160) ),\n",
        "    Label(  'rail track'           , 10 ,      255 , 'flat'            , 1       , False        , True         , (230,150,140) ),\n",
        "    Label(  'building'             , 11 ,        2 , 'construction'    , 2       , False        , False        , ( 70, 70, 70) ),\n",
        "    Label(  'wall'                 , 12 ,        3 , 'construction'    , 2       , False        , False        , (102,102,156) ),\n",
        "    Label(  'fence'                , 13 ,        4 , 'construction'    , 2       , False        , False        , (190,153,153) ),\n",
        "    Label(  'guard rail'           , 14 ,      255 , 'construction'    , 2       , False        , True         , (180,165,180) ),\n",
        "    Label(  'bridge'               , 15 ,      255 , 'construction'    , 2       , False        , True         , (150,100,100) ),\n",
        "    Label(  'tunnel'               , 16 ,      255 , 'construction'    , 2       , False        , True         , (150,120, 90) ),\n",
        "    Label(  'pole'                 , 17 ,        5 , 'object'          , 3       , False        , False        , (153,153,153) ),\n",
        "    Label(  'polegroup'            , 18 ,      255 , 'object'          , 3       , False        , True         , (153,153,153) ),\n",
        "    Label(  'traffic light'        , 19 ,        6 , 'object'          , 3       , False        , False        , (250,170, 30) ),\n",
        "    Label(  'traffic sign'         , 20 ,        7 , 'object'          , 3       , False        , False        , (220,220,  0) ),\n",
        "    Label(  'vegetation'           , 21 ,        8 , 'nature'          , 4       , False        , False        , (107,142, 35) ),\n",
        "    Label(  'terrain'              , 22 ,        9 , 'nature'          , 4       , False        , False        , (152,251,152) ),\n",
        "    Label(  'sky'                  , 23 ,       10 , 'sky'             , 5       , False        , False        , ( 70,130,180) ),\n",
        "    Label(  'person'               , 24 ,       11 , 'human'           , 6       , True         , False        , (220, 20, 60) ),\n",
        "    Label(  'rider'                , 25 ,       12 , 'human'           , 6       , True         , False        , (255,  0,  0) ),\n",
        "    Label(  'car'                  , 26 ,       13 , 'vehicle'         , 7       , True         , False        , (  0,  0,142) ),\n",
        "    Label(  'truck'                , 27 ,       14 , 'vehicle'         , 7       , True         , False        , (  0,  0, 70) ),\n",
        "    Label(  'bus'                  , 28 ,       15 , 'vehicle'         , 7       , True         , False        , (  0, 60,100) ),\n",
        "    Label(  'caravan'              , 29 ,      255 , 'vehicle'         , 7       , True         , True         , (  0,  0, 90) ),\n",
        "    Label(  'trailer'              , 30 ,      255 , 'vehicle'         , 7       , True         , True         , (  0,  0,110) ),\n",
        "    Label(  'train'                , 31 ,       16 , 'vehicle'         , 7       , True         , False        , (  0, 80,100) ),\n",
        "    Label(  'motorcycle'           , 32 ,       17 , 'vehicle'         , 7       , True         , False        , (  0,  0,230) ),\n",
        "    Label(  'bicycle'              , 33 ,       18 , 'vehicle'         , 7       , True         , False        , (119, 11, 32) ),\n",
        "    Label(  'license plate'        , -1 ,       -1 , 'vehicle'         , 7       , False        , True         , (  0,  0,142) ),\n",
        "]"
      ]
    },
    {
      "cell_type": "code",
      "execution_count": null,
      "metadata": {
        "colab": {
          "base_uri": "https://localhost:8080/"
        },
        "id": "EWCL2qmXVzvY",
        "outputId": "796c6d65-6303-4178-a043-e910fb5ad4a9"
      },
      "outputs": [
        {
          "output_type": "stream",
          "name": "stdout",
          "text": [
            "number of labels used = 19\n"
          ]
        }
      ],
      "source": [
        "# labels that will be used has ignoreinEval == False\n",
        "labels_used = []\n",
        "ids = []\n",
        "for i in range(len(labels)):\n",
        "  # if labels[i].name == 'unlabeled':\n",
        "  #   labels_used.append(labels[i])\n",
        "  if(labels[i].ignoreInEval == False):\n",
        "    labels_used.append(labels[i])\n",
        "    ids.append(labels[i].id)\n",
        "print(\"number of labels used = \" + format(len(labels_used )))"
      ]
    },
    {
      "cell_type": "code",
      "execution_count": null,
      "metadata": {
        "id": "ipq8UpY6ZcDB"
      },
      "outputs": [],
      "source": [
        "label_in = cv2.imread(train_labels[0])[:,:,0]#visualize a sample label"
      ]
    },
    {
      "cell_type": "code",
      "execution_count": null,
      "metadata": {
        "id": "tYGbh2IUffKR"
      },
      "outputs": [],
      "source": [
        "#create a dictionary with label_id as key & train_id as value\n",
        "label_dic = {}\n",
        "for i in range(len(labels)-1):\n",
        "  label_dic[labels[i].id] = labels[i].trainId"
      ]
    },
    {
      "cell_type": "code",
      "execution_count": null,
      "metadata": {
        "id": "IIBBcKl6UAz5"
      },
      "outputs": [],
      "source": [
        "#function to convert labelids to trainids\n",
        "def createtrainID(label_in,label_dic):\n",
        "  mask = np.zeros((label_in.shape[0],label_in.shape[1]))\n",
        "  l_un = np.unique(label_in)\n",
        "  for i in range(len(l_un)):\n",
        "    mask[label_in==l_un[i]] = label_dic[l_un[i]] \n",
        "  return mask"
      ]
    },
    {
      "cell_type": "code",
      "execution_count": null,
      "metadata": {
        "id": "HzDEkzQVXmjH"
      },
      "outputs": [],
      "source": [
        "#function to visualize the labels\n",
        "def visual_label(mask,labels_used,plot = False):\n",
        "  label_img = np.zeros((mask.shape[0],mask.shape[1],3))\n",
        "  r = np.zeros((mask.shape[0],mask.shape[1]))\n",
        "  g = np.zeros((mask.shape[0],mask.shape[1]))\n",
        "  b = np.zeros((mask.shape[0],mask.shape[1]))\n",
        "  l_un = np.unique(mask)\n",
        "  for i in range(len(l_un)):\n",
        "    if l_un[i]<19:\n",
        "      r[mask==int(l_un[i])] = labels_used[int(l_un[i])].color[0]\n",
        "      g[mask==int(l_un[i])] = labels_used[int(l_un[i])].color[1]\n",
        "      b[mask==int(l_un[i])] = labels_used[int(l_un[i])].color[2]\n",
        "  \n",
        "  label_img[:,:,0] = r/255\n",
        "  label_img[:,:,1] = g/255\n",
        "  label_img[:,:,2] = b/255\n",
        "\n",
        "  if plot:\n",
        "    plt.imshow(label_img)\n",
        "  return label_img"
      ]
    },
    {
      "cell_type": "code",
      "execution_count": null,
      "metadata": {
        "colab": {
          "base_uri": "https://localhost:8080/",
          "height": 219
        },
        "id": "JrciUpzvg6bs",
        "outputId": "0eac5d0f-e6d5-463a-a753-a48de63c6b51"
      },
      "outputs": [
        {
          "output_type": "display_data",
          "data": {
            "image/png": "[encoded data removed]",
            "text/plain": [
              "<Figure size 432x288 with 1 Axes>"
            ]
          },
          "metadata": {
            "needs_background": "light"
          }
        }
      ],
      "source": [
        "label_img = visual_label(createtrainID(label_in,label_dic),labels_used,plot = True)"
      ]
    },
    {
      "cell_type": "code",
      "execution_count": null,
      "metadata": {
        "colab": {
          "base_uri": "https://localhost:8080/",
          "height": 591
        },
        "id": "BDmBY5pkLwCe",
        "outputId": "d1fd28fb-815f-40b0-a8b0-23e077ba58fd"
      },
      "outputs": [
        {
          "output_type": "display_data",
          "data": {
            "image/png": "[encoded data removed]",
            "text/plain": [
              "<Figure size 720x720 with 19 Axes>"
            ]
          },
          "metadata": {
            "needs_background": "light"
          }
        }
      ],
      "source": [
        "#description of different colors\n",
        "fig = plt.figure(figsize = (10,10))\n",
        "\n",
        "for i in range(len(labels_used)):\n",
        "    temp = np.zeros((5,5,3))\n",
        "    temp[:,:,0] = labels_used[i].color[0]/255\n",
        "    temp[:,:,1] = labels_used[i].color[1]/255\n",
        "    temp[:,:,2] = labels_used[i].color[2]/255\n",
        "    ax = fig.add_subplot(5, 4, i+1)\n",
        "    ax.imshow(temp)\n",
        "    ax.set_title(labels_used[i].name)\n",
        "    ax.axis('off')"
      ]
    },
    {
      "cell_type": "code",
      "execution_count": null,
      "metadata": {
        "id": "mJ7cr1o8yKzX"
      },
      "outputs": [],
      "source": [
        "#function to generate images for training, validation and testing\n",
        "def gen_images(x,s1=96,s2=96):\n",
        "  _,_,s3 = cv2.imread(x[0]).shape\n",
        "  img = np.zeros((len(x),s1,s2,s3))\n",
        "  for i in range(len(x)):\n",
        "      image= cv2.resize(cv2.imread(x[i]),(s1,s2),interpolation = cv2.INTER_NEAREST)\n",
        "      image = image/255\n",
        "      img[i,:,:,:] = image\n",
        "  return torch.tensor(img).permute(0,3,1,2)\n",
        "\n"
      ]
    },
    {
      "cell_type": "code",
      "execution_count": null,
      "metadata": {
        "id": "GO4JZRbcTcM2"
      },
      "outputs": [],
      "source": [
        "#function to generate images for training, validation and testing\n",
        "def gen_mask_train(x,label_dic,s1=96,s2=96):\n",
        "  #s1,s2,_ = cv2.imread(x[0]).shape\n",
        "  mask = np.zeros((len(x),s1,s2))\n",
        "  for i in range(len(x)):\n",
        "      image = createtrainID(cv2.resize(cv2.imread(x[i]),(s1,s2),interpolation = cv2.INTER_NEAREST)[:,:,0],label_dic)\n",
        "      mask[i,:,:] = image\n",
        "      mask[mask==255] = 19\n",
        "  return torch.tensor(mask)"
      ]
    },
    {
      "cell_type": "code",
      "execution_count": null,
      "metadata": {
        "id": "TCCFFoyhvV8q"
      },
      "outputs": [],
      "source": [
        "train = []\n",
        "train_dataset = []\n",
        "test_dataset = []\n",
        "valid_dataset =[]\n",
        "\n",
        "for x in zip(train_inp,train_labels):\n",
        "  train.append(x)\n",
        "\n",
        "for x in zip(valid_inp,valid_labels):\n",
        "  valid_dataset.append(x)\n",
        "# train_split_ratio = 0.6\n",
        "# test_split_ratio = 0.2\n",
        "\n",
        "# num_samples = len(train)\n",
        "# train_size = int(num_samples*train_split_ratio)\n",
        "# test_size = int(num_samples*test_split_ratio)\n",
        "# val_size = num_samples-train_size-test_size\n",
        "\n",
        "n =  len(train)\n",
        "train_n = int(0.8*n) \n",
        "np.random.seed(0)\n",
        "perm = np.random.permutation(n)\n",
        "\n",
        "for i in range(len(perm[0:train_n])):   \n",
        "  train_dataset.append(train[perm[i]])\n",
        "for i in range(len(perm[train_n:n])):\n",
        "  test_dataset.append(train[perm[i+train_n]])  \n",
        "# for i in range(len(perm[train_size+test_size:num_samples])):\n",
        "#   valid_dataset.append(train[perm[i]]) "
      ]
    },
    {
      "cell_type": "code",
      "execution_count": null,
      "metadata": {
        "id": "SFqK250PpQIV"
      },
      "outputs": [],
      "source": [
        "train_loader = torch.utils.data.DataLoader(train_dataset, \n",
        "                                           batch_size=16, \n",
        "                                           shuffle=True, \n",
        "                                           num_workers=0)\n",
        "valid_loader = torch.utils.data.DataLoader(valid_dataset, \n",
        "                                           batch_size=16, \n",
        "                                           shuffle=True, \n",
        "                                           num_workers=0)\n",
        "test_loader = torch.utils.data.DataLoader(test_dataset, \n",
        "                                           batch_size=16, \n",
        "                                           shuffle=True, \n",
        "                                           num_workers=0)"
      ]
    },
    {
      "cell_type": "code",
      "execution_count": null,
      "metadata": {
        "colab": {
          "base_uri": "https://localhost:8080/"
        },
        "id": "eFN3FFhUVTQo",
        "outputId": "22508fd3-5cc6-47be-c01b-48ada31ea2bb"
      },
      "outputs": [
        {
          "output_type": "stream",
          "name": "stdout",
          "text": [
            "Training set size: 2380\n",
            "Validation set size: 500\n",
            "Test set size: 595\n"
          ]
        }
      ],
      "source": [
        "print (\"Training set size: {}\".format(len(train_dataset)))\n",
        "print (\"Validation set size: {}\".format(len(valid_dataset)))\n",
        "print (\"Test set size: {}\".format(len(test_dataset)))"
      ]
    },
    {
      "cell_type": "code",
      "execution_count": null,
      "metadata": {
        "colab": {
          "base_uri": "https://localhost:8080/"
        },
        "id": "953OmaFJSc_K",
        "outputId": "981f4416-0569-425a-8e72-ca9fc811b7e7"
      },
      "outputs": [
        {
          "output_type": "stream",
          "name": "stdout",
          "text": [
            "cuda\n"
          ]
        }
      ],
      "source": [
        "device = torch.device('cuda' if torch.cuda.is_available() else 'cpu')\n",
        "print(device)"
      ]
    },
    {
      "cell_type": "code",
      "execution_count": null,
      "metadata": {
        "id": "-7SaoHYifMTE"
      },
      "outputs": [],
      "source": [
        "x,y = iter(train_loader).next()\n",
        "img = gen_images(x)\n",
        "img = img.to(device).type(torch.float)\n",
        "mask = gen_mask_train(y,label_dic)\n",
        "mask = mask.to(device)"
      ]
    },
    {
      "cell_type": "code",
      "execution_count": null,
      "metadata": {
        "colab": {
          "base_uri": "https://localhost:8080/",
          "height": 449
        },
        "id": "ZxZ7Ziv9e1Dk",
        "outputId": "c4f629c3-e105-4fa1-b4bb-cbd0502558ed"
      },
      "outputs": [
        {
          "output_type": "display_data",
          "data": {
            "image/png": "[encoded data removed]",
            "text/plain": [
              "<Figure size 720x720 with 8 Axes>"
            ]
          },
          "metadata": {
            "needs_background": "light"
          }
        }
      ],
      "source": [
        "#visualize some of the training images with labels\n",
        "n_images = 4\n",
        "\n",
        "fig = plt.figure(figsize = (10,10))\n",
        "\n",
        "for i in range(n_images*2):\n",
        "    ax = fig.add_subplot(2, n_images, i+1)\n",
        "    if i<n_images:\n",
        "      ax.imshow(img.permute(0,2,3,1)[i,:,:,:].cpu().numpy())\n",
        "    else:\n",
        "      ax.imshow(visual_label(mask[int(i%n_images),:,:].cpu().numpy(),labels_used))\n",
        "    ax.axis('off')"
      ]
    },
    {
      "cell_type": "markdown",
      "metadata": {
        "id": "FWvdhAHCh1O-"
      },
      "source": [
        "# Model Development (SegNet)"
      ]
    },
    {
      "cell_type": "code",
      "execution_count": null,
      "metadata": {
        "id": "rVRJtptVVQxf"
      },
      "outputs": [],
      "source": [
        "#create different operations of the network opearations of the network\n",
        "# idea from https://github.com/alejandrodebus\n",
        "'''\n",
        "First is the single convolution layer.\n",
        "convulution->batch_norm->relu\n",
        "'''\n",
        "class single_conv(nn.Module):\n",
        "    def __init__(self, in_ch, out_ch):\n",
        "        super(single_conv, self).__init__()\n",
        "        # Define the layers here\n",
        "        # Note: for conv, use a padding of (1,1) so that size is maintained\n",
        "        self.conv = nn.Conv2d(in_ch, out_ch, kernel_size=3,padding = 1)\n",
        "        self.bn = nn.BatchNorm2d(out_ch,momentum = 0.9)\n",
        "        self.relu = nn.ReLU()\n",
        "    def forward(self, x):\n",
        "        # define forward operation using the layers above\n",
        "        x = self.conv(x)\n",
        "        x = self.bn(x)\n",
        "        x = self.relu(x)\n",
        "        return x\n",
        "'''\n",
        "Second is the maxpool with indicies\n",
        "'''\n",
        "class down_layer(nn.Module):\n",
        "    def __init__(self):\n",
        "        super(down_layer, self).__init__()\n",
        "        self.down = nn.MaxPool2d(kernel_size=2, stride=2, return_indices=True) # use nn.MaxPool2d( )        \n",
        "    def forward(self, x):\n",
        "        x1,idx = self.down(x)\n",
        "        return x1,idx\n",
        "\n",
        "'''\n",
        "Third is the unpool layer\n",
        "'''\n",
        "class un_pool(nn.Module):\n",
        "    def __init__(self):\n",
        "        super(un_pool, self).__init__()       \n",
        "        self.un_pool = nn.MaxUnpool2d(kernel_size=2, stride=2) # use nn.Upsample() with mode bilinear\n",
        "        \n",
        "    \n",
        "    def forward(self, x, idx,x1):\n",
        "        #Take the indicies from maxpool layer\n",
        "        x = self.un_pool(x,idx,output_size = x1.size())\n",
        "        return x \n",
        "'''\n",
        "Last layer is just convolution layer so we just dust define convoulution\n",
        "for outlayer\n",
        "'''\n",
        "class outconv(nn.Module):\n",
        "    def __init__(self, in_ch, out_ch):\n",
        "        super(outconv, self).__init__()\n",
        "        # 1 conv layer\n",
        "        self.conv = nn.Conv2d(in_ch, out_ch, kernel_size=3,padding = 1)\n",
        "\n",
        "    def forward(self, x):\n",
        "        # Forward conv layer\n",
        "        x = self.conv(x)\n",
        "        return x"
      ]
    },
    {
      "cell_type": "code",
      "execution_count": null,
      "metadata": {
        "id": "vFu5Na8OZoH2"
      },
      "outputs": [],
      "source": [
        "# use all above the individual operations to build the network \n",
        "class SegNet(nn.Module):\n",
        "    def __init__(self, n_channels_in, n_classes):\n",
        "        super(SegNet, self).__init__()\n",
        "        self.conv1 = single_conv(n_channels_in,64)\n",
        "        self.conv2 = single_conv(64,64)\n",
        "        self.down1 = down_layer()\n",
        "        self.conv3 = single_conv(64,128)\n",
        "        self.conv4 = single_conv(128,128)\n",
        "        self.down2 = down_layer()\n",
        "        self.conv5 = single_conv(128,256)\n",
        "        self.conv6 = single_conv(256,256)\n",
        "        self.conv7 = single_conv(256,256)\n",
        "        self.down3 = down_layer()\n",
        "        self.conv8 = single_conv(256,512)\n",
        "        self.conv9 = single_conv(512,512)\n",
        "        self.conv10 = single_conv(512,512)\n",
        "        self.down4 = down_layer()\n",
        "        self.conv11 = single_conv(512,512)\n",
        "        self.conv12 = single_conv(512,512)\n",
        "        self.conv13 = single_conv(512,512)\n",
        "        self.down5 = down_layer()\n",
        "        self.up1 = un_pool()\n",
        "        self.conv14 = single_conv(512,512)\n",
        "        self.conv15 = single_conv(512,512)\n",
        "        self.conv16 = single_conv(512,512)\n",
        "        self.up2 = un_pool()\n",
        "        self.conv17 = single_conv(512,512)\n",
        "        self.conv18 = single_conv(512,512)\n",
        "        self.conv19 = single_conv(512,256)\n",
        "        self.up3 = un_pool()\n",
        "        self.conv20 = single_conv(256,256)\n",
        "        self.conv21 = single_conv(256,256)\n",
        "        self.conv22 = single_conv(256,128)\n",
        "        self.up4 = un_pool()\n",
        "        self.conv23 = single_conv(128,128)\n",
        "        self.conv24 = single_conv(128,64)\n",
        "        self.up5 = un_pool()\n",
        "        self.conv25 = single_conv(64,64)\n",
        "        self.outconv1 = outconv(64,n_classes)\n",
        "\n",
        "    def forward(self, x):\n",
        "        # Define forward pass\n",
        "        x1 = self.conv1(x)\n",
        "        x2 = self.conv2(x1)\n",
        "        x3,idx1 = self.down1(x2)\n",
        "        x4 = self.conv3(x3)\n",
        "        x5 = self.conv4(x4)\n",
        "        x6,idx2 = self.down2(x5)\n",
        "        x7 = self.conv5(x6)\n",
        "        x8 = self.conv6(x7)\n",
        "        x9 = self.conv7(x8)\n",
        "        x10,idx3 = self.down3(x9)\n",
        "        x11 = self.conv8(x10)\n",
        "        x12 = self.conv9(x11)\n",
        "        x13 = self.conv10(x12)\n",
        "        x14,idx4 = self.down4(x13)\n",
        "        x15 = self.conv11(x14)\n",
        "        x16 = self.conv12(x15)\n",
        "        x17 = self.conv13(x16)\n",
        "        x18,idx5 = self.down5(x17)\n",
        "        x19 = self.up1(x18,idx5,x17)\n",
        "        x20 = self.conv14(x19)\n",
        "        x21 = self.conv15(x20)\n",
        "        x22 = self.conv16(x21)\n",
        "        x23 = self.up2(x22,idx4,x13)\n",
        "        x24 = self.conv17(x23)\n",
        "        x25 = self.conv18(x24)\n",
        "        x26 = self.conv19(x25)\n",
        "        x27 = self.up3(x26,idx3,x9)\n",
        "        x28 = self.conv20(x27)\n",
        "        x29 = self.conv21(x28)\n",
        "        x30 = self.conv22(x29)\n",
        "        x31 = self.up4(x30,idx2,x5)\n",
        "        x32 = self.conv23(x31)\n",
        "        x33 = self.conv24(x32)\n",
        "        x34 = self.up4(x33,idx1,x2)\n",
        "        x35 = self.conv25(x34)\n",
        "        x = self.outconv1(x35)\n",
        "        ## Go up back to original dimension\n",
        "        return x    "
      ]
    },
    {
      "cell_type": "code",
      "execution_count": null,
      "metadata": {
        "id": "8nQvkA8m5srC"
      },
      "outputs": [],
      "source": [
        "net = SegNet(3,20) #one additional class for pixel ignored"
      ]
    },
    {
      "cell_type": "code",
      "execution_count": null,
      "metadata": {
        "colab": {
          "base_uri": "https://localhost:8080/"
        },
        "id": "gglivqJalLZk",
        "outputId": "469ec68c-cbd4-47c0-fab7-816e665c3053"
      },
      "outputs": [
        {
          "output_type": "stream",
          "name": "stdout",
          "text": [
            "29454548\n"
          ]
        }
      ],
      "source": [
        "#count the number of trainable parameters\n",
        "def count_parameters(model):\n",
        "    return sum(p.numel() for p in model.parameters() if p.requires_grad)\n",
        "\n",
        "print(count_parameters(net))"
      ]
    },
    {
      "cell_type": "code",
      "execution_count": null,
      "metadata": {
        "id": "sCLXu3qj6CTE"
      },
      "outputs": [],
      "source": [
        "LR = 0.0001"
      ]
    },
    {
      "cell_type": "code",
      "execution_count": null,
      "metadata": {
        "id": "QFddl7J06fTX"
      },
      "outputs": [],
      "source": [
        "optimizer = torch.optim.Adam(\n",
        "    net.parameters(),\n",
        "    lr=LR,weight_decay = .0002,amsgrad=True\n",
        ")"
      ]
    },
    {
      "cell_type": "code",
      "execution_count": null,
      "metadata": {
        "id": "I4NbFid9Iafw"
      },
      "outputs": [],
      "source": [
        "#initialize the parameters\n",
        "def initialize_parameters(m):\n",
        "    if isinstance(m, nn.Conv2d):\n",
        "        nn.init.kaiming_normal_(m.weight.data, nonlinearity = 'relu')\n",
        "        nn.init.constant_(m.bias.data, 0)"
      ]
    },
    {
      "cell_type": "code",
      "execution_count": null,
      "metadata": {
        "colab": {
          "base_uri": "https://localhost:8080/"
        },
        "id": "oSRj9x_3lOfX",
        "outputId": "24a1e3de-665b-4e8d-af6c-8a00ee542492"
      },
      "outputs": [
        {
          "output_type": "execute_result",
          "data": {
            "text/plain": [
              "SegNet(\n",
              "  (conv1): single_conv(\n",
              "    (conv): Conv2d(3, 64, kernel_size=(3, 3), stride=(1, 1), padding=(1, 1))\n",
              "    (bn): BatchNorm2d(64, eps=1e-05, momentum=0.9, affine=True, track_running_stats=True)\n",
              "    (relu): ReLU()\n",
              "  )\n",
              "  (conv2): single_conv(\n",
              "    (conv): Conv2d(64, 64, kernel_size=(3, 3), stride=(1, 1), padding=(1, 1))\n",
              "    (bn): BatchNorm2d(64, eps=1e-05, momentum=0.9, affine=True, track_running_stats=True)\n",
              "    (relu): ReLU()\n",
              "  )\n",
              "  (down1): down_layer(\n",
              "    (down): MaxPool2d(kernel_size=2, stride=2, padding=0, dilation=1, ceil_mode=False)\n",
              "  )\n",
              "  (conv3): single_conv(\n",
              "    (conv): Conv2d(64, 128, kernel_size=(3, 3), stride=(1, 1), padding=(1, 1))\n",
              "    (bn): BatchNorm2d(128, eps=1e-05, momentum=0.9, affine=True, track_running_stats=True)\n",
              "    (relu): ReLU()\n",
              "  )\n",
              "  (conv4): single_conv(\n",
              "    (conv): Conv2d(128, 128, kernel_size=(3, 3), stride=(1, 1), padding=(1, 1))\n",
              "    (bn): BatchNorm2d(128, eps=1e-05, momentum=0.9, affine=True, track_running_stats=True)\n",
              "    (relu): ReLU()\n",
              "  )\n",
              "  (down2): down_layer(\n",
              "    (down): MaxPool2d(kernel_size=2, stride=2, padding=0, dilation=1, ceil_mode=False)\n",
              "  )\n",
              "  (conv5): single_conv(\n",
              "    (conv): Conv2d(128, 256, kernel_size=(3, 3), stride=(1, 1), padding=(1, 1))\n",
              "    (bn): BatchNorm2d(256, eps=1e-05, momentum=0.9, affine=True, track_running_stats=True)\n",
              "    (relu): ReLU()\n",
              "  )\n",
              "  (conv6): single_conv(\n",
              "    (conv): Conv2d(256, 256, kernel_size=(3, 3), stride=(1, 1), padding=(1, 1))\n",
              "    (bn): BatchNorm2d(256, eps=1e-05, momentum=0.9, affine=True, track_running_stats=True)\n",
              "    (relu): ReLU()\n",
              "  )\n",
              "  (conv7): single_conv(\n",
              "    (conv): Conv2d(256, 256, kernel_size=(3, 3), stride=(1, 1), padding=(1, 1))\n",
              "    (bn): BatchNorm2d(256, eps=1e-05, momentum=0.9, affine=True, track_running_stats=True)\n",
              "    (relu): ReLU()\n",
              "  )\n",
              "  (down3): down_layer(\n",
              "    (down): MaxPool2d(kernel_size=2, stride=2, padding=0, dilation=1, ceil_mode=False)\n",
              "  )\n",
              "  (conv8): single_conv(\n",
              "    (conv): Conv2d(256, 512, kernel_size=(3, 3), stride=(1, 1), padding=(1, 1))\n",
              "    (bn): BatchNorm2d(512, eps=1e-05, momentum=0.9, affine=True, track_running_stats=True)\n",
              "    (relu): ReLU()\n",
              "  )\n",
              "  (conv9): single_conv(\n",
              "    (conv): Conv2d(512, 512, kernel_size=(3, 3), stride=(1, 1), padding=(1, 1))\n",
              "    (bn): BatchNorm2d(512, eps=1e-05, momentum=0.9, affine=True, track_running_stats=True)\n",
              "    (relu): ReLU()\n",
              "  )\n",
              "  (conv10): single_conv(\n",
              "    (conv): Conv2d(512, 512, kernel_size=(3, 3), stride=(1, 1), padding=(1, 1))\n",
              "    (bn): BatchNorm2d(512, eps=1e-05, momentum=0.9, affine=True, track_running_stats=True)\n",
              "    (relu): ReLU()\n",
              "  )\n",
              "  (down4): down_layer(\n",
              "    (down): MaxPool2d(kernel_size=2, stride=2, padding=0, dilation=1, ceil_mode=False)\n",
              "  )\n",
              "  (conv11): single_conv(\n",
              "    (conv): Conv2d(512, 512, kernel_size=(3, 3), stride=(1, 1), padding=(1, 1))\n",
              "    (bn): BatchNorm2d(512, eps=1e-05, momentum=0.9, affine=True, track_running_stats=True)\n",
              "    (relu): ReLU()\n",
              "  )\n",
              "  (conv12): single_conv(\n",
              "    (conv): Conv2d(512, 512, kernel_size=(3, 3), stride=(1, 1), padding=(1, 1))\n",
              "    (bn): BatchNorm2d(512, eps=1e-05, momentum=0.9, affine=True, track_running_stats=True)\n",
              "    (relu): ReLU()\n",
              "  )\n",
              "  (conv13): single_conv(\n",
              "    (conv): Conv2d(512, 512, kernel_size=(3, 3), stride=(1, 1), padding=(1, 1))\n",
              "    (bn): BatchNorm2d(512, eps=1e-05, momentum=0.9, affine=True, track_running_stats=True)\n",
              "    (relu): ReLU()\n",
              "  )\n",
              "  (down5): down_layer(\n",
              "    (down): MaxPool2d(kernel_size=2, stride=2, padding=0, dilation=1, ceil_mode=False)\n",
              "  )\n",
              "  (up1): un_pool(\n",
              "    (un_pool): MaxUnpool2d(kernel_size=(2, 2), stride=(2, 2), padding=(0, 0))\n",
              "  )\n",
              "  (conv14): single_conv(\n",
              "    (conv): Conv2d(512, 512, kernel_size=(3, 3), stride=(1, 1), padding=(1, 1))\n",
              "    (bn): BatchNorm2d(512, eps=1e-05, momentum=0.9, affine=True, track_running_stats=True)\n",
              "    (relu): ReLU()\n",
              "  )\n",
              "  (conv15): single_conv(\n",
              "    (conv): Conv2d(512, 512, kernel_size=(3, 3), stride=(1, 1), padding=(1, 1))\n",
              "    (bn): BatchNorm2d(512, eps=1e-05, momentum=0.9, affine=True, track_running_stats=True)\n",
              "    (relu): ReLU()\n",
              "  )\n",
              "  (conv16): single_conv(\n",
              "    (conv): Conv2d(512, 512, kernel_size=(3, 3), stride=(1, 1), padding=(1, 1))\n",
              "    (bn): BatchNorm2d(512, eps=1e-05, momentum=0.9, affine=True, track_running_stats=True)\n",
              "    (relu): ReLU()\n",
              "  )\n",
              "  (up2): un_pool(\n",
              "    (un_pool): MaxUnpool2d(kernel_size=(2, 2), stride=(2, 2), padding=(0, 0))\n",
              "  )\n",
              "  (conv17): single_conv(\n",
              "    (conv): Conv2d(512, 512, kernel_size=(3, 3), stride=(1, 1), padding=(1, 1))\n",
              "    (bn): BatchNorm2d(512, eps=1e-05, momentum=0.9, affine=True, track_running_stats=True)\n",
              "    (relu): ReLU()\n",
              "  )\n",
              "  (conv18): single_conv(\n",
              "    (conv): Conv2d(512, 512, kernel_size=(3, 3), stride=(1, 1), padding=(1, 1))\n",
              "    (bn): BatchNorm2d(512, eps=1e-05, momentum=0.9, affine=True, track_running_stats=True)\n",
              "    (relu): ReLU()\n",
              "  )\n",
              "  (conv19): single_conv(\n",
              "    (conv): Conv2d(512, 256, kernel_size=(3, 3), stride=(1, 1), padding=(1, 1))\n",
              "    (bn): BatchNorm2d(256, eps=1e-05, momentum=0.9, affine=True, track_running_stats=True)\n",
              "    (relu): ReLU()\n",
              "  )\n",
              "  (up3): un_pool(\n",
              "    (un_pool): MaxUnpool2d(kernel_size=(2, 2), stride=(2, 2), padding=(0, 0))\n",
              "  )\n",
              "  (conv20): single_conv(\n",
              "    (conv): Conv2d(256, 256, kernel_size=(3, 3), stride=(1, 1), padding=(1, 1))\n",
              "    (bn): BatchNorm2d(256, eps=1e-05, momentum=0.9, affine=True, track_running_stats=True)\n",
              "    (relu): ReLU()\n",
              "  )\n",
              "  (conv21): single_conv(\n",
              "    (conv): Conv2d(256, 256, kernel_size=(3, 3), stride=(1, 1), padding=(1, 1))\n",
              "    (bn): BatchNorm2d(256, eps=1e-05, momentum=0.9, affine=True, track_running_stats=True)\n",
              "    (relu): ReLU()\n",
              "  )\n",
              "  (conv22): single_conv(\n",
              "    (conv): Conv2d(256, 128, kernel_size=(3, 3), stride=(1, 1), padding=(1, 1))\n",
              "    (bn): BatchNorm2d(128, eps=1e-05, momentum=0.9, affine=True, track_running_stats=True)\n",
              "    (relu): ReLU()\n",
              "  )\n",
              "  (up4): un_pool(\n",
              "    (un_pool): MaxUnpool2d(kernel_size=(2, 2), stride=(2, 2), padding=(0, 0))\n",
              "  )\n",
              "  (conv23): single_conv(\n",
              "    (conv): Conv2d(128, 128, kernel_size=(3, 3), stride=(1, 1), padding=(1, 1))\n",
              "    (bn): BatchNorm2d(128, eps=1e-05, momentum=0.9, affine=True, track_running_stats=True)\n",
              "    (relu): ReLU()\n",
              "  )\n",
              "  (conv24): single_conv(\n",
              "    (conv): Conv2d(128, 64, kernel_size=(3, 3), stride=(1, 1), padding=(1, 1))\n",
              "    (bn): BatchNorm2d(64, eps=1e-05, momentum=0.9, affine=True, track_running_stats=True)\n",
              "    (relu): ReLU()\n",
              "  )\n",
              "  (up5): un_pool(\n",
              "    (un_pool): MaxUnpool2d(kernel_size=(2, 2), stride=(2, 2), padding=(0, 0))\n",
              "  )\n",
              "  (conv25): single_conv(\n",
              "    (conv): Conv2d(64, 64, kernel_size=(3, 3), stride=(1, 1), padding=(1, 1))\n",
              "    (bn): BatchNorm2d(64, eps=1e-05, momentum=0.9, affine=True, track_running_stats=True)\n",
              "    (relu): ReLU()\n",
              "  )\n",
              "  (outconv1): outconv(\n",
              "    (conv): Conv2d(64, 20, kernel_size=(3, 3), stride=(1, 1), padding=(1, 1))\n",
              "  )\n",
              ")"
            ]
          },
          "metadata": {},
          "execution_count": 30
        }
      ],
      "source": [
        "net.apply(initialize_parameters)"
      ]
    },
    {
      "cell_type": "code",
      "execution_count": null,
      "metadata": {
        "colab": {
          "base_uri": "https://localhost:8080/"
        },
        "id": "3xvd_CtrBqLH",
        "outputId": "a0412d45-1756-4731-a45c-640c5dc04b90"
      },
      "outputs": [
        {
          "output_type": "stream",
          "name": "stderr",
          "text": [
            "100%|██████████| 149/149 [25:47<00:00, 10.39s/it]\n"
          ]
        }
      ],
      "source": [
        " weights = np.zeros((20))\n",
        " for (_, y) in tqdm(train_loader):\n",
        "    y = gen_mask_train(y,label_dic)\n",
        "    y = y.to(device).long()\n",
        "    for i in range(20):\n",
        "      weights[i] += torch.sum((y==i).type(torch.uint8))"
      ]
    },
    {
      "cell_type": "code",
      "execution_count": null,
      "metadata": {
        "id": "jR-6dPQ4kh1q"
      },
      "outputs": [],
      "source": [
        "# weights = np.median(weights/np.sum(weights))/(weights/np.sum(weights))"
      ]
    },
    {
      "cell_type": "code",
      "execution_count": null,
      "metadata": {
        "colab": {
          "base_uri": "https://localhost:8080/"
        },
        "id": "AtfLBtjU4bWL",
        "outputId": "b7262333-511f-4822-a237-b8852c7de54b"
      },
      "outputs": [
        {
          "output_type": "execute_result",
          "data": {
            "text/plain": [
              "array([ 3.147, 10.221,  4.46 , 18.311, 17.906, 16.993, 19.82 , 18.757,\n",
              "        5.695, 17.081, 12.274, 16.995, 20.035,  9.404, 19.683, 19.667,\n",
              "       19.894, 20.141, 19.124,  6.383])"
            ]
          },
          "metadata": {},
          "execution_count": 32
        }
      ],
      "source": [
        "weights = 1./(np.log(1.05+weights/np.sum(weights)))\n",
        "weights"
      ]
    },
    {
      "cell_type": "markdown",
      "source": [
        "roup 1 = \\{Sky\\}, Group 2 = \\{ Building, Wall, Fence, Vegetation,Terrain\\}, Group 3 = \\{Road, Sidewalk, Train\\}, Group 4 = \\{Pole, Traffic Lightm Traffic Sign, Person, Rider, Car, Truck, Bus, Motorcycle, Bicycle\\}"
      ],
      "metadata": {
        "id": "TM_jxZWiFRYM"
      }
    },
    {
      "cell_type": "markdown",
      "source": [
        "#### Importance Awareness Loss based on https://arxiv.org/pdf/1907.11066v2.pdf"
      ],
      "metadata": {
        "id": "HQ4wSwfQFcdI"
      }
    },
    {
      "cell_type": "code",
      "execution_count": null,
      "metadata": {
        "id": "0a-rhBsGjRAD"
      },
      "outputs": [],
      "source": [
        "#dividing into four groups\n",
        "class_weights1 = np.zeros((20))\n",
        "class_weights1[10]= weights[10]\n",
        "class_weights1[19]= weights[19]\n",
        "class_weights2 = np.zeros((20))\n",
        "class_weights2[2] = weights[2]\n",
        "class_weights2[3] = weights[3]\n",
        "class_weights2[4] = weights[4]\n",
        "class_weights2[8] = weights[8]\n",
        "class_weights2[9] = weights[9]\n",
        "class_weights3 = np.zeros((20))\n",
        "class_weights3[0] = weights[0]\n",
        "class_weights3[1] = weights[1]\n",
        "class_weights3[16] = weights[16]\n",
        "class_weights4 = np.zeros((20))\n",
        "class_weights4[5] = weights[5]\n",
        "class_weights4[6] = weights[6]\n",
        "class_weights4[7] = weights[7]\n",
        "class_weights4[11] = weights[11]\n",
        "class_weights4[12] = weights[12]\n",
        "class_weights4[13] = weights[13]\n",
        "class_weights4[14] = weights[14]\n",
        "class_weights4[15] = weights[15]\n",
        "class_weights4[17] = weights[17]\n",
        "class_weights4[18] = weights[18]"
      ]
    },
    {
      "cell_type": "code",
      "execution_count": null,
      "metadata": {
        "id": "tQRfyDFn_Otm"
      },
      "outputs": [],
      "source": [
        "class_weights1 = torch.tensor(class_weights1).float().to(device)\n",
        "class_weights2 = torch.tensor(class_weights2).float().to(device)\n",
        "class_weights3 = torch.tensor(class_weights3).float().to(device)\n",
        "class_weights4 = torch.tensor(class_weights4).float().to(device)"
      ]
    },
    {
      "cell_type": "code",
      "execution_count": null,
      "metadata": {
        "id": "SxAiK2pBGGgr"
      },
      "outputs": [],
      "source": [
        "net = net.to(device)"
      ]
    },
    {
      "cell_type": "markdown",
      "metadata": {
        "id": "NvMiAoxtlgL5"
      },
      "source": [
        "# Training SegNet on cityscapes dataset"
      ]
    },
    {
      "cell_type": "code",
      "execution_count": null,
      "metadata": {
        "id": "U9PRjhtrG7zA"
      },
      "outputs": [],
      "source": [
        "def IAL(y_pred,y,weights):\n",
        "  return nn.functional.cross_entropy(y_pred,y,weight = weights)"
      ]
    },
    {
      "cell_type": "code",
      "execution_count": null,
      "metadata": {
        "id": "X9A0a22wZqZO"
      },
      "outputs": [],
      "source": [
        "#weighted mean IoU to be consistent with cityscapes dataset\n",
        "def mean_iou(y_pred,y,num_class = 20):\n",
        "  y1 = torch.argmax(y_pred,dim=1)\n",
        "  y2 = nn.functional.one_hot(y1,num_classes=num_class).permute(0,3,1,2)\n",
        "  metric = ConfusionMatrix(num_classes=num_class)\n",
        "  miou = IoU(metric,ignore_index=num_class-1)\n",
        "  miou.reset()\n",
        "  miou.update((y2,y))\n",
        "  m = miou.compute()\n",
        "  weights = np.zeros((20))\n",
        " \n",
        "  for i in range(20):\n",
        "    weights[i] += torch.sum((y==i).type(torch.uint8))\n",
        "  \n",
        "  return torch.sum(m*weights[:-1]/np.sum(weights[:-1]))"
      ]
    },
    {
      "cell_type": "code",
      "execution_count": null,
      "metadata": {
        "id": "B519FhBS8T78"
      },
      "outputs": [],
      "source": [
        "# define train epoch\n",
        "def train(model, iterator, optimizer, device,label_dic):\n",
        "    \n",
        "    epoch_loss = 0\n",
        "    epoch_IoU = 0\n",
        "    \n",
        "    model.train()\n",
        "    \n",
        "    for (x, y) in tqdm(iterator):\n",
        "        x = gen_images(x)\n",
        "        x = x.to(device).type(torch.float)\n",
        "        y = gen_mask_train(y,label_dic)\n",
        "        y = y.to(device).long()\n",
        "        if random.random()<0.5:\n",
        "          seed =randint(-10,10)\n",
        "          x = torchvision.transforms.functional.rotate(x,angle=seed)\n",
        "          y = torchvision.transforms.functional.rotate(y,angle=seed)\n",
        "\n",
        "        if random.random()<0.5:\n",
        "          x = torch.flip(x,dims = (0,3))\n",
        "          y = torch.flip(y,dims = (0,2))\n",
        "        optimizer.zero_grad()\n",
        "\n",
        "        # weights = np.zeros((20))\n",
        "        \n",
        "        # for i in range(20):\n",
        "        #   weights[i] += torch.sum((y==i).type(torch.uint8))\n",
        "        # weights = np.median(weights/np.sum(weights))/(1+weights/np.sum(weights))\n",
        "        # # weights = 1./(np.log(1.05+weights/np.sum(weights)))\n",
        "        # #dividing into four groups\n",
        "        # class_weights1 = np.zeros((20))\n",
        "        # class_weights1[10]= weights[10]\n",
        "        # class_weights1[19]= weights[19]\n",
        "        # class_weights2 = np.zeros((20))\n",
        "        # class_weights2[2] = weights[2]\n",
        "        # class_weights2[3] = weights[3]\n",
        "        # class_weights2[4] = weights[4]\n",
        "        # class_weights2[8] = weights[8]\n",
        "        # class_weights2[9] = weights[9]\n",
        "        # class_weights3 = np.zeros((20))\n",
        "        # class_weights3[0] = weights[0]\n",
        "        # class_weights3[1] = weights[1]\n",
        "        # class_weights3[16] = weights[16]\n",
        "        # class_weights4 = np.zeros((20))\n",
        "        # class_weights4[5] = weights[5]\n",
        "        # class_weights4[6] = weights[6]\n",
        "        # class_weights4[7] = weights[7]\n",
        "        # class_weights4[11] = weights[11]\n",
        "        # class_weights4[12] = weights[12]\n",
        "        # class_weights4[13] = weights[13]\n",
        "        # class_weights4[14] = weights[14]\n",
        "        # class_weights4[15] = weights[15]\n",
        "        # class_weights4[17] = weights[17]\n",
        "        # class_weights4[18] = weights[18]\n",
        "        # class_weights1 = torch.tensor(class_weights1).float().to(device)\n",
        "        # class_weights2 = torch.tensor(class_weights2).float().to(device)\n",
        "        # class_weights3 = torch.tensor(class_weights3).float().to(device)\n",
        "        # class_weights4 = torch.tensor(class_weights4).float().to(device)\n",
        "\n",
        "                \n",
        "        y_pred = model(x).float()\n",
        "        y1 = y_pred.permute(1,0,2,3).reshape(20,-1)\n",
        "        y1 = nn.functional.softmax(y1,dim = 0)\n",
        "        y2 = nn.functional.one_hot(y,num_classes=20).permute(3,0,1,2).reshape(20,-1)\n",
        "        y3 = torch.split(y2,1)\n",
        "        M1 = y3[0] + y3[1]+ y3[2] + y3[3] +y3[4]+ y3[5]+ y3[6] + y3[7] + y3[8] + y3[9] +y3[11] + y3[12] + y3[13] +y3[14]+ y3[15]+ y3[16] + y3[17] + y3[18] \n",
        "\n",
        "        M2 = y3[0]+ y3[1] + y3[5]+ y3[6] + y3[7]  +y3[11] + y3[12] + y3[13] +y3[14]+ y3[15]+ y3[16] + y3[17] + y3[18] \n",
        "\n",
        "        M3 =  y3[5]+ y3[6] + y3[7]  +y3[11] + y3[12] + y3[13] +y3[14]+ y3[15]+ y3[16] + y3[17] + y3[18] \n",
        "        X = torch.sum(y2*y1,dim=0).reshape(1,-1) \n",
        "        f1 = torch.sum(torch.pow(torch.pow(M1+0.5,0.5)*(X-M1),2))/(2*torch.sum(y2))\n",
        "        f2 = torch.sum(torch.pow(torch.pow(M2+0.5,0.5)*(X-M2)*M1,2))/(2*torch.sum(M1))\n",
        "        f3 = torch.sum(torch.pow(torch.pow(M3+0.5,0.5)*(X-M3)*M2,2))/(2*torch.sum(M2))\n",
        "        loss1 = IAL(y_pred,y,class_weights1)\n",
        "        loss2 = IAL(y_pred,y,class_weights2)\n",
        "        loss3 = IAL(y_pred,y,class_weights3)\n",
        "        loss4 = IAL(y_pred,y,class_weights4)\n",
        "\n",
        "        total_loss = loss1 + loss2*(f1+1)+ loss3*(f1+1)*(f2+1)+ loss4*(f1+1)*(f2+1)*(f3+1)\n",
        "\n",
        "\n",
        "        IoU = mean_iou(y_pred, y)\n",
        "        \n",
        "        total_loss.backward()\n",
        "        \n",
        "        optimizer.step()\n",
        "        \n",
        "        epoch_loss += total_loss.item()\n",
        "        epoch_IoU += IoU.item()\n",
        "        \n",
        "    return epoch_loss / len(iterator), epoch_IoU/len(iterator)"
      ]
    },
    {
      "cell_type": "code",
      "execution_count": null,
      "metadata": {
        "id": "hMY6XknXiwI_"
      },
      "outputs": [],
      "source": [
        "def evaluation(model, iterator, device,label_dic):\n",
        "    \n",
        "    epoch_loss = 0\n",
        "    epoch_IoU = 0\n",
        "    \n",
        "    model.eval()\n",
        "    \n",
        "    with torch.no_grad():\n",
        "      for (x, y) in tqdm(iterator):\n",
        "          x = gen_images(x)\n",
        "          x = x.to(device).type(torch.float)\n",
        "          y = gen_mask_train(y,label_dic)\n",
        "          y = y.to(device).long()\n",
        "          \n",
        "          y_pred = model(x).float()\n",
        "          # loss = criterion(y_pred, y)\n",
        "          # loss = criterion(y_pred, nn.functional.one_hot(y).permute(0,3,1,2))\n",
        "          # weights = np.zeros((20))\n",
        "        \n",
        "          # for i in range(20):\n",
        "          #   weights[i] += torch.sum((y==i).type(torch.uint8))\n",
        "          # weights = np.median(weights/np.sum(weights))/(1+weights/np.sum(weights))\n",
        "          # # weights = 1./(np.log(1.05+weights/np.sum(weights)))\n",
        "          # #dividing into four groups\n",
        "          # class_weights1 = np.zeros((20))\n",
        "          # class_weights1[10]= weights[10]\n",
        "          # class_weights1[19]= weights[19]\n",
        "          # class_weights2 = np.zeros((20))\n",
        "          # class_weights2[2] = weights[2]\n",
        "          # class_weights2[3] = weights[3]\n",
        "          # class_weights2[4] = weights[4]\n",
        "          # class_weights2[8] = weights[8]\n",
        "          # class_weights2[9] = weights[9]\n",
        "          # class_weights3 = np.zeros((20))\n",
        "          # class_weights3[0] = weights[0]\n",
        "          # class_weights3[1] = weights[1]\n",
        "          # class_weights3[16] = weights[16]\n",
        "          # class_weights4 = np.zeros((20))\n",
        "          # class_weights4[5] = weights[5]\n",
        "          # class_weights4[6] = weights[6]\n",
        "          # class_weights4[7] = weights[7]\n",
        "          # class_weights4[11] = weights[11]\n",
        "          # class_weights4[12] = weights[12]\n",
        "          # class_weights4[13] = weights[13]\n",
        "          # class_weights4[14] = weights[14]\n",
        "          # class_weights4[15] = weights[15]\n",
        "          # class_weights4[17] = weights[17]\n",
        "          # class_weights4[18] = weights[18]\n",
        "          # class_weights1 = torch.tensor(class_weights1).float().to(device)\n",
        "          # class_weights2 = torch.tensor(class_weights2).float().to(device)\n",
        "          # class_weights3 = torch.tensor(class_weights3).float().to(device)\n",
        "          # class_weights4 = torch.tensor(class_weights4).float().to(device)\n",
        "\n",
        "\n",
        "          y1 = y_pred.permute(1,0,2,3).reshape(20,-1)\n",
        "          y1 = nn.functional.softmax(y1,dim = 0)\n",
        "          y2 = nn.functional.one_hot(y,num_classes=20).permute(3,0,1,2).reshape(20,-1)\n",
        "          y3 = torch.split(y2,1)\n",
        "          M1 = y3[0] + y3[1]+ y3[2] + y3[3] +y3[4]+ y3[5]+ y3[6] + y3[7] + y3[8] + y3[9] +y3[11] + y3[12] + y3[13] +y3[14]+ y3[15]+ y3[16] + y3[17] + y3[18] \n",
        "\n",
        "          M2 = y3[0]+ y3[1] + y3[5]+ y3[6] + y3[7]  +y3[11] + y3[12] + y3[13] +y3[14]+ y3[15]+ y3[16] + y3[17] + y3[18] \n",
        "\n",
        "          M3 =  y3[5]+ y3[6] + y3[7]  +y3[11] + y3[12] + y3[13] +y3[14]+ y3[15]+ y3[16] + y3[17] + y3[18] \n",
        "          X = torch.sum(y2*y1,dim=0).reshape(1,-1) \n",
        "          f1 = torch.sum(torch.pow(torch.pow(M1+0.5,0.5)*(X-M1),2))/(2*torch.sum(y2))\n",
        "          f2 = torch.sum(torch.pow(torch.pow(M2+0.5,0.5)*(X-M2)*M1,2))/(2*torch.sum(M1))\n",
        "          f3 = torch.sum(torch.pow(torch.pow(M3+0.5,0.5)*(X-M3)*M2,2))/(2*torch.sum(M2))\n",
        "          loss1 = IAL(y_pred,y,class_weights1)\n",
        "          loss2 = IAL(y_pred,y,class_weights2)\n",
        "          loss3 = IAL(y_pred,y,class_weights3)\n",
        "          loss4 = IAL(y_pred,y,class_weights4)\n",
        "\n",
        "          total_loss = loss1 + loss2*(f1+1)+ loss3*(f1+1)*(f2+1)+ loss4*(f1+1)*(f2+1)*(f3+1)\n",
        "          IoU = mean_iou(y_pred, y)\n",
        "          \n",
        "          epoch_loss += total_loss.item()\n",
        "          epoch_IoU += IoU.item()\n",
        "        \n",
        "    return epoch_loss / len(iterator), epoch_IoU/len(iterator)"
      ]
    },
    {
      "cell_type": "code",
      "execution_count": null,
      "metadata": {
        "colab": {
          "base_uri": "https://localhost:8080/"
        },
        "id": "EnEjE2Ws8wug",
        "outputId": "1a7adcee-4492-464f-f33e-c3020acf9844"
      },
      "outputs": [
        {
          "output_type": "stream",
          "name": "stderr",
          "text": [
            "100%|██████████| 149/149 [33:30<00:00, 13.49s/it]\n",
            "100%|██████████| 32/32 [09:09<00:00, 17.19s/it]\n"
          ]
        }
      ],
      "source": [
        "#train for one epoch to fit the data to the CUDA memory, next epochs will be faster\n",
        "train_loss,train_IoU = train(net, train_loader, optimizer, device,label_dic)\n",
        "valid_loss,valid_IoU = evaluation(net, valid_loader, device,label_dic)"
      ]
    },
    {
      "cell_type": "code",
      "execution_count": null,
      "metadata": {
        "colab": {
          "base_uri": "https://localhost:8080/"
        },
        "id": "ulKHDW5r7w4F",
        "outputId": "4d4e667b-e79c-4c97-890c-78920340af5a"
      },
      "outputs": [
        {
          "output_type": "stream",
          "name": "stdout",
          "text": [
            "Tue Dec 14 23:33:50 2021       \n",
            "+-----------------------------------------------------------------------------+\n",
            "| NVIDIA-SMI 495.44       Driver Version: 460.32.03    CUDA Version: 11.2     |\n",
            "|-------------------------------+----------------------+----------------------+\n",
            "| GPU  Name        Persistence-M| Bus-Id        Disp.A | Volatile Uncorr. ECC |\n",
            "| Fan  Temp  Perf  Pwr:Usage/Cap|         Memory-Usage | GPU-Util  Compute M. |\n",
            "|                               |                      |               MIG M. |\n",
            "|===============================+======================+======================|\n",
            "|   0  Tesla P100-PCIE...  Off  | 00000000:00:04.0 Off |                    0 |\n",
            "| N/A   53C    P0    39W / 250W |   2887MiB / 16280MiB |      0%      Default |\n",
            "|                               |                      |                  N/A |\n",
            "+-------------------------------+----------------------+----------------------+\n",
            "                                                                               \n",
            "+-----------------------------------------------------------------------------+\n",
            "| Processes:                                                                  |\n",
            "|  GPU   GI   CI        PID   Type   Process name                  GPU Memory |\n",
            "|        ID   ID                                                   Usage      |\n",
            "|=============================================================================|\n",
            "|  No running processes found                                                 |\n",
            "+-----------------------------------------------------------------------------+\n"
          ]
        }
      ],
      "source": [
        "#running on colab pro\n",
        "!nvidia-smi"
      ]
    },
    {
      "cell_type": "code",
      "execution_count": null,
      "metadata": {
        "id": "u9uN48Z8k3pw"
      },
      "outputs": [],
      "source": [
        "import time\n",
        "\n",
        "def epoch_time(start_time, end_time):\n",
        "    elapsed_time = end_time - start_time\n",
        "    elapsed_mins = int(elapsed_time / 60)\n",
        "    elapsed_secs = int(elapsed_time - (elapsed_mins * 60))\n",
        "    return elapsed_mins, elapsed_secs"
      ]
    },
    {
      "cell_type": "code",
      "execution_count": null,
      "metadata": {
        "id": "KhPaK5v0M_dZ"
      },
      "outputs": [],
      "source": [
        "training_losses = []\n",
        "valid_losses =[]\n",
        "training_iou =[]\n",
        "validation_iou = []"
      ]
    },
    {
      "cell_type": "code",
      "execution_count": null,
      "metadata": {
        "id": "bWFSWzb4kRmO",
        "colab": {
          "base_uri": "https://localhost:8080/"
        },
        "outputId": "98644f02-d7fc-44d6-cbc7-757232f603d0"
      },
      "outputs": [
        {
          "output_type": "stream",
          "name": "stderr",
          "text": [
            "100%|██████████| 149/149 [03:29<00:00,  1.41s/it]\n",
            "100%|██████████| 32/32 [00:40<00:00,  1.27s/it]\n"
          ]
        },
        {
          "output_type": "stream",
          "name": "stdout",
          "text": [
            "Epoch: 01 | Epoch Time: 4m 10s\n",
            "\tTrain Loss: 9.342 | Train IoU: 0.4333489759166144\n",
            "\t Val. Loss: 8.956 | Valid IoU: 0.4550601789956744\n"
          ]
        },
        {
          "output_type": "stream",
          "name": "stderr",
          "text": [
            "100%|██████████| 149/149 [03:27<00:00,  1.39s/it]\n",
            "100%|██████████| 32/32 [00:41<00:00,  1.29s/it]\n"
          ]
        },
        {
          "output_type": "stream",
          "name": "stdout",
          "text": [
            "Epoch: 02 | Epoch Time: 4m 8s\n",
            "\tTrain Loss: 8.194 | Train IoU: 0.5060282526693631\n",
            "\t Val. Loss: 8.011 | Valid IoU: 0.5389285535165123\n"
          ]
        },
        {
          "output_type": "stream",
          "name": "stderr",
          "text": [
            "100%|██████████| 149/149 [03:32<00:00,  1.42s/it]\n",
            "100%|██████████| 32/32 [00:41<00:00,  1.29s/it]\n"
          ]
        },
        {
          "output_type": "stream",
          "name": "stdout",
          "text": [
            "Epoch: 03 | Epoch Time: 4m 13s\n",
            "\tTrain Loss: 7.356 | Train IoU: 0.5704907879176098\n",
            "\t Val. Loss: 7.631 | Valid IoU: 0.5644610129046811\n"
          ]
        },
        {
          "output_type": "stream",
          "name": "stderr",
          "text": [
            "100%|██████████| 149/149 [03:36<00:00,  1.45s/it]\n",
            "100%|██████████| 32/32 [00:41<00:00,  1.29s/it]\n"
          ]
        },
        {
          "output_type": "stream",
          "name": "stdout",
          "text": [
            "Epoch: 04 | Epoch Time: 4m 17s\n",
            "\tTrain Loss: 6.935 | Train IoU: 0.5942397035858926\n",
            "\t Val. Loss: 7.248 | Valid IoU: 0.5968097801834678\n"
          ]
        },
        {
          "output_type": "stream",
          "name": "stderr",
          "text": [
            "100%|██████████| 149/149 [03:28<00:00,  1.40s/it]\n",
            "100%|██████████| 32/32 [00:41<00:00,  1.29s/it]\n"
          ]
        },
        {
          "output_type": "stream",
          "name": "stdout",
          "text": [
            "Epoch: 05 | Epoch Time: 4m 10s\n",
            "\tTrain Loss: 6.575 | Train IoU: 0.611487376448421\n",
            "\t Val. Loss: 7.035 | Valid IoU: 0.5924242396657967\n"
          ]
        },
        {
          "output_type": "stream",
          "name": "stderr",
          "text": [
            "100%|██████████| 149/149 [03:30<00:00,  1.41s/it]\n",
            "100%|██████████| 32/32 [00:41<00:00,  1.31s/it]\n"
          ]
        },
        {
          "output_type": "stream",
          "name": "stdout",
          "text": [
            "Epoch: 06 | Epoch Time: 4m 12s\n",
            "\tTrain Loss: 6.307 | Train IoU: 0.622172885922977\n",
            "\t Val. Loss: 6.703 | Valid IoU: 0.6115888084430026\n"
          ]
        },
        {
          "output_type": "stream",
          "name": "stderr",
          "text": [
            "100%|██████████| 149/149 [03:32<00:00,  1.42s/it]\n",
            "100%|██████████| 32/32 [00:41<00:00,  1.29s/it]\n"
          ]
        },
        {
          "output_type": "stream",
          "name": "stdout",
          "text": [
            "Epoch: 07 | Epoch Time: 4m 13s\n",
            "\tTrain Loss: 6.040 | Train IoU: 0.6346199578452754\n",
            "\t Val. Loss: 6.595 | Valid IoU: 0.5999482050515026\n"
          ]
        },
        {
          "output_type": "stream",
          "name": "stderr",
          "text": [
            "100%|██████████| 149/149 [03:32<00:00,  1.43s/it]\n",
            "100%|██████████| 32/32 [00:41<00:00,  1.30s/it]\n"
          ]
        },
        {
          "output_type": "stream",
          "name": "stdout",
          "text": [
            "Epoch: 08 | Epoch Time: 4m 14s\n",
            "\tTrain Loss: 5.838 | Train IoU: 0.6442625634128697\n",
            "\t Val. Loss: 6.526 | Valid IoU: 0.6002133222160241\n"
          ]
        },
        {
          "output_type": "stream",
          "name": "stderr",
          "text": [
            "100%|██████████| 149/149 [03:31<00:00,  1.42s/it]\n",
            "100%|██████████| 32/32 [00:41<00:00,  1.30s/it]\n"
          ]
        },
        {
          "output_type": "stream",
          "name": "stdout",
          "text": [
            "Epoch: 09 | Epoch Time: 4m 12s\n",
            "\tTrain Loss: 5.654 | Train IoU: 0.6527793043044493\n",
            "\t Val. Loss: 6.355 | Valid IoU: 0.6238807388737637\n"
          ]
        },
        {
          "output_type": "stream",
          "name": "stderr",
          "text": [
            "100%|██████████| 149/149 [03:36<00:00,  1.45s/it]\n",
            "100%|██████████| 32/32 [00:42<00:00,  1.34s/it]\n"
          ]
        },
        {
          "output_type": "stream",
          "name": "stdout",
          "text": [
            "Epoch: 10 | Epoch Time: 4m 19s\n",
            "\tTrain Loss: 5.449 | Train IoU: 0.6627716303119326\n",
            "\t Val. Loss: 6.065 | Valid IoU: 0.640644395388739\n"
          ]
        },
        {
          "output_type": "stream",
          "name": "stderr",
          "text": [
            "100%|██████████| 149/149 [03:32<00:00,  1.43s/it]\n",
            "100%|██████████| 32/32 [00:42<00:00,  1.32s/it]\n"
          ]
        },
        {
          "output_type": "stream",
          "name": "stdout",
          "text": [
            "Epoch: 11 | Epoch Time: 4m 14s\n",
            "\tTrain Loss: 5.363 | Train IoU: 0.6677568529530805\n",
            "\t Val. Loss: 6.072 | Valid IoU: 0.6351212361041798\n"
          ]
        },
        {
          "output_type": "stream",
          "name": "stderr",
          "text": [
            "100%|██████████| 149/149 [03:32<00:00,  1.43s/it]\n",
            "100%|██████████| 32/32 [00:41<00:00,  1.29s/it]\n"
          ]
        },
        {
          "output_type": "stream",
          "name": "stdout",
          "text": [
            "Epoch: 12 | Epoch Time: 4m 13s\n",
            "\tTrain Loss: 5.256 | Train IoU: 0.6705398700558851\n",
            "\t Val. Loss: 6.161 | Valid IoU: 0.6428315938335908\n"
          ]
        },
        {
          "output_type": "stream",
          "name": "stderr",
          "text": [
            "100%|██████████| 149/149 [03:29<00:00,  1.41s/it]\n",
            "100%|██████████| 32/32 [00:40<00:00,  1.28s/it]\n"
          ]
        },
        {
          "output_type": "stream",
          "name": "stdout",
          "text": [
            "Epoch: 13 | Epoch Time: 4m 10s\n",
            "\tTrain Loss: 5.087 | Train IoU: 0.6789585691731596\n",
            "\t Val. Loss: 6.172 | Valid IoU: 0.6324716357310457\n"
          ]
        },
        {
          "output_type": "stream",
          "name": "stderr",
          "text": [
            "100%|██████████| 149/149 [03:29<00:00,  1.40s/it]\n",
            "100%|██████████| 32/32 [00:41<00:00,  1.29s/it]\n"
          ]
        },
        {
          "output_type": "stream",
          "name": "stdout",
          "text": [
            "Epoch: 14 | Epoch Time: 4m 10s\n",
            "\tTrain Loss: 5.018 | Train IoU: 0.6829284369584522\n",
            "\t Val. Loss: 5.988 | Valid IoU: 0.634957602568247\n"
          ]
        },
        {
          "output_type": "stream",
          "name": "stderr",
          "text": [
            "100%|██████████| 149/149 [03:29<00:00,  1.41s/it]\n",
            "100%|██████████| 32/32 [00:40<00:00,  1.28s/it]\n"
          ]
        },
        {
          "output_type": "stream",
          "name": "stdout",
          "text": [
            "Epoch: 15 | Epoch Time: 4m 10s\n",
            "\tTrain Loss: 4.868 | Train IoU: 0.6872456740107131\n",
            "\t Val. Loss: 5.911 | Valid IoU: 0.6427302334820278\n"
          ]
        },
        {
          "output_type": "stream",
          "name": "stderr",
          "text": [
            "100%|██████████| 149/149 [03:28<00:00,  1.40s/it]\n",
            "100%|██████████| 32/32 [00:41<00:00,  1.29s/it]\n"
          ]
        },
        {
          "output_type": "stream",
          "name": "stdout",
          "text": [
            "Epoch: 16 | Epoch Time: 4m 10s\n",
            "\tTrain Loss: 4.773 | Train IoU: 0.6905150806330791\n",
            "\t Val. Loss: 5.702 | Valid IoU: 0.6525537200887079\n"
          ]
        },
        {
          "output_type": "stream",
          "name": "stderr",
          "text": [
            "100%|██████████| 149/149 [04:08<00:00,  1.67s/it]\n",
            "100%|██████████| 32/32 [00:41<00:00,  1.29s/it]\n"
          ]
        },
        {
          "output_type": "stream",
          "name": "stdout",
          "text": [
            "Epoch: 17 | Epoch Time: 4m 49s\n",
            "\tTrain Loss: 4.773 | Train IoU: 0.6922850360827135\n",
            "\t Val. Loss: 5.948 | Valid IoU: 0.6365206922641948\n"
          ]
        },
        {
          "output_type": "stream",
          "name": "stderr",
          "text": [
            "100%|██████████| 149/149 [03:29<00:00,  1.41s/it]\n",
            "100%|██████████| 32/32 [00:40<00:00,  1.28s/it]\n"
          ]
        },
        {
          "output_type": "stream",
          "name": "stdout",
          "text": [
            "Epoch: 18 | Epoch Time: 4m 10s\n",
            "\tTrain Loss: 4.647 | Train IoU: 0.6965600613693623\n",
            "\t Val. Loss: 5.744 | Valid IoU: 0.6482965930222013\n"
          ]
        },
        {
          "output_type": "stream",
          "name": "stderr",
          "text": [
            "100%|██████████| 149/149 [03:28<00:00,  1.40s/it]\n",
            "100%|██████████| 32/32 [00:41<00:00,  1.28s/it]\n"
          ]
        },
        {
          "output_type": "stream",
          "name": "stdout",
          "text": [
            "Epoch: 19 | Epoch Time: 4m 9s\n",
            "\tTrain Loss: 4.534 | Train IoU: 0.702358174494098\n",
            "\t Val. Loss: 5.866 | Valid IoU: 0.641883032593441\n"
          ]
        },
        {
          "output_type": "stream",
          "name": "stderr",
          "text": [
            "100%|██████████| 149/149 [03:34<00:00,  1.44s/it]\n",
            "100%|██████████| 32/32 [00:41<00:00,  1.31s/it]\n"
          ]
        },
        {
          "output_type": "stream",
          "name": "stdout",
          "text": [
            "Epoch: 20 | Epoch Time: 4m 16s\n",
            "\tTrain Loss: 4.438 | Train IoU: 0.7065583921850578\n",
            "\t Val. Loss: 5.853 | Valid IoU: 0.6452981198627797\n"
          ]
        },
        {
          "output_type": "stream",
          "name": "stderr",
          "text": [
            "100%|██████████| 149/149 [03:30<00:00,  1.41s/it]\n",
            "100%|██████████| 32/32 [00:41<00:00,  1.29s/it]\n"
          ]
        },
        {
          "output_type": "stream",
          "name": "stdout",
          "text": [
            "Epoch: 21 | Epoch Time: 4m 11s\n",
            "\tTrain Loss: 4.385 | Train IoU: 0.7086655312574631\n",
            "\t Val. Loss: 5.488 | Valid IoU: 0.6689326280897915\n"
          ]
        },
        {
          "output_type": "stream",
          "name": "stderr",
          "text": [
            "100%|██████████| 149/149 [03:28<00:00,  1.40s/it]\n",
            "100%|██████████| 32/32 [00:42<00:00,  1.34s/it]\n"
          ]
        },
        {
          "output_type": "stream",
          "name": "stdout",
          "text": [
            "Epoch: 22 | Epoch Time: 4m 11s\n",
            "\tTrain Loss: 4.406 | Train IoU: 0.7094183326637613\n",
            "\t Val. Loss: 5.753 | Valid IoU: 0.650309449260315\n"
          ]
        },
        {
          "output_type": "stream",
          "name": "stderr",
          "text": [
            "100%|██████████| 149/149 [03:35<00:00,  1.44s/it]\n",
            "100%|██████████| 32/32 [00:42<00:00,  1.32s/it]\n"
          ]
        },
        {
          "output_type": "stream",
          "name": "stdout",
          "text": [
            "Epoch: 23 | Epoch Time: 4m 17s\n",
            "\tTrain Loss: 4.273 | Train IoU: 0.7143030412553931\n",
            "\t Val. Loss: 5.612 | Valid IoU: 0.653534236759087\n"
          ]
        },
        {
          "output_type": "stream",
          "name": "stderr",
          "text": [
            "100%|██████████| 149/149 [03:30<00:00,  1.42s/it]\n",
            "100%|██████████| 32/32 [00:41<00:00,  1.31s/it]\n"
          ]
        },
        {
          "output_type": "stream",
          "name": "stdout",
          "text": [
            "Epoch: 24 | Epoch Time: 4m 12s\n",
            "\tTrain Loss: 4.276 | Train IoU: 0.7139230170117067\n",
            "\t Val. Loss: 5.602 | Valid IoU: 0.6599291850533886\n"
          ]
        },
        {
          "output_type": "stream",
          "name": "stderr",
          "text": [
            "100%|██████████| 149/149 [03:32<00:00,  1.42s/it]\n",
            "100%|██████████| 32/32 [00:41<00:00,  1.30s/it]\n"
          ]
        },
        {
          "output_type": "stream",
          "name": "stdout",
          "text": [
            "Epoch: 25 | Epoch Time: 4m 13s\n",
            "\tTrain Loss: 4.100 | Train IoU: 0.7213273175987033\n",
            "\t Val. Loss: 5.779 | Valid IoU: 0.6450596088133242\n"
          ]
        },
        {
          "output_type": "stream",
          "name": "stderr",
          "text": [
            "100%|██████████| 149/149 [03:28<00:00,  1.40s/it]\n",
            "100%|██████████| 32/32 [00:40<00:00,  1.28s/it]\n"
          ]
        },
        {
          "output_type": "stream",
          "name": "stdout",
          "text": [
            "Epoch: 26 | Epoch Time: 4m 9s\n",
            "\tTrain Loss: 4.051 | Train IoU: 0.7236217402443947\n",
            "\t Val. Loss: 5.623 | Valid IoU: 0.6687241367294972\n"
          ]
        },
        {
          "output_type": "stream",
          "name": "stderr",
          "text": [
            "100%|██████████| 149/149 [03:27<00:00,  1.39s/it]\n",
            "100%|██████████| 32/32 [00:40<00:00,  1.28s/it]\n"
          ]
        },
        {
          "output_type": "stream",
          "name": "stdout",
          "text": [
            "Epoch: 27 | Epoch Time: 4m 8s\n",
            "\tTrain Loss: 4.022 | Train IoU: 0.7242782424034494\n",
            "\t Val. Loss: 5.687 | Valid IoU: 0.653776691545183\n"
          ]
        },
        {
          "output_type": "stream",
          "name": "stderr",
          "text": [
            "100%|██████████| 149/149 [03:28<00:00,  1.40s/it]\n",
            "100%|██████████| 32/32 [00:40<00:00,  1.28s/it]\n"
          ]
        },
        {
          "output_type": "stream",
          "name": "stdout",
          "text": [
            "Epoch: 28 | Epoch Time: 4m 9s\n",
            "\tTrain Loss: 3.971 | Train IoU: 0.7278046516630678\n",
            "\t Val. Loss: 5.624 | Valid IoU: 0.6693725702559224\n"
          ]
        },
        {
          "output_type": "stream",
          "name": "stderr",
          "text": [
            "100%|██████████| 149/149 [03:27<00:00,  1.40s/it]\n",
            "100%|██████████| 32/32 [00:40<00:00,  1.27s/it]\n"
          ]
        },
        {
          "output_type": "stream",
          "name": "stdout",
          "text": [
            "Epoch: 29 | Epoch Time: 4m 8s\n",
            "\tTrain Loss: 3.865 | Train IoU: 0.7323147028578447\n",
            "\t Val. Loss: 5.552 | Valid IoU: 0.6712143153310927\n"
          ]
        },
        {
          "output_type": "stream",
          "name": "stderr",
          "text": [
            "100%|██████████| 149/149 [03:28<00:00,  1.40s/it]\n",
            "100%|██████████| 32/32 [00:40<00:00,  1.27s/it]\n"
          ]
        },
        {
          "output_type": "stream",
          "name": "stdout",
          "text": [
            "Epoch: 30 | Epoch Time: 4m 8s\n",
            "\tTrain Loss: 3.724 | Train IoU: 0.7377475473795025\n",
            "\t Val. Loss: 5.749 | Valid IoU: 0.6480234455514219\n"
          ]
        },
        {
          "output_type": "stream",
          "name": "stderr",
          "text": [
            "100%|██████████| 149/149 [03:28<00:00,  1.40s/it]\n",
            "100%|██████████| 32/32 [00:41<00:00,  1.30s/it]\n"
          ]
        },
        {
          "output_type": "stream",
          "name": "stdout",
          "text": [
            "Epoch: 31 | Epoch Time: 4m 9s\n",
            "\tTrain Loss: 3.708 | Train IoU: 0.7372837372572707\n",
            "\t Val. Loss: 5.545 | Valid IoU: 0.6751357805394943\n"
          ]
        },
        {
          "output_type": "stream",
          "name": "stderr",
          "text": [
            "100%|██████████| 149/149 [03:30<00:00,  1.41s/it]\n",
            "100%|██████████| 32/32 [00:41<00:00,  1.29s/it]\n"
          ]
        },
        {
          "output_type": "stream",
          "name": "stdout",
          "text": [
            "Epoch: 32 | Epoch Time: 4m 12s\n",
            "\tTrain Loss: 3.729 | Train IoU: 0.7352236066348229\n",
            "\t Val. Loss: 5.549 | Valid IoU: 0.6724731165093114\n"
          ]
        },
        {
          "output_type": "stream",
          "name": "stderr",
          "text": [
            "100%|██████████| 149/149 [03:32<00:00,  1.42s/it]\n",
            "100%|██████████| 32/32 [00:41<00:00,  1.30s/it]\n"
          ]
        },
        {
          "output_type": "stream",
          "name": "stdout",
          "text": [
            "Epoch: 33 | Epoch Time: 4m 13s\n",
            "\tTrain Loss: 3.561 | Train IoU: 0.7430437239329186\n",
            "\t Val. Loss: 5.526 | Valid IoU: 0.6800327814243768\n"
          ]
        },
        {
          "output_type": "stream",
          "name": "stderr",
          "text": [
            "100%|██████████| 149/149 [03:31<00:00,  1.42s/it]\n",
            "100%|██████████| 32/32 [00:41<00:00,  1.30s/it]\n"
          ]
        },
        {
          "output_type": "stream",
          "name": "stdout",
          "text": [
            "Epoch: 34 | Epoch Time: 4m 13s\n",
            "\tTrain Loss: 3.490 | Train IoU: 0.7465324434256807\n",
            "\t Val. Loss: 5.661 | Valid IoU: 0.682925004036171\n"
          ]
        },
        {
          "output_type": "stream",
          "name": "stderr",
          "text": [
            "100%|██████████| 149/149 [03:31<00:00,  1.42s/it]\n",
            "100%|██████████| 32/32 [00:42<00:00,  1.32s/it]\n"
          ]
        },
        {
          "output_type": "stream",
          "name": "stdout",
          "text": [
            "Epoch: 35 | Epoch Time: 4m 14s\n",
            "\tTrain Loss: 3.497 | Train IoU: 0.7453871537471211\n",
            "\t Val. Loss: 5.794 | Valid IoU: 0.6635071012107321\n"
          ]
        },
        {
          "output_type": "stream",
          "name": "stderr",
          "text": [
            "100%|██████████| 149/149 [03:28<00:00,  1.40s/it]\n",
            "100%|██████████| 32/32 [00:40<00:00,  1.27s/it]\n"
          ]
        },
        {
          "output_type": "stream",
          "name": "stdout",
          "text": [
            "Epoch: 36 | Epoch Time: 4m 9s\n",
            "\tTrain Loss: 3.464 | Train IoU: 0.7469486422101416\n",
            "\t Val. Loss: 5.832 | Valid IoU: 0.6649491839603777\n"
          ]
        },
        {
          "output_type": "stream",
          "name": "stderr",
          "text": [
            "100%|██████████| 149/149 [03:29<00:00,  1.40s/it]\n",
            "100%|██████████| 32/32 [00:40<00:00,  1.28s/it]\n"
          ]
        },
        {
          "output_type": "stream",
          "name": "stdout",
          "text": [
            "Epoch: 37 | Epoch Time: 4m 9s\n",
            "\tTrain Loss: 3.412 | Train IoU: 0.749233876289524\n",
            "\t Val. Loss: 5.656 | Valid IoU: 0.6655869651724067\n"
          ]
        },
        {
          "output_type": "stream",
          "name": "stderr",
          "text": [
            "100%|██████████| 149/149 [03:31<00:00,  1.42s/it]\n",
            "100%|██████████| 32/32 [00:41<00:00,  1.30s/it]\n"
          ]
        },
        {
          "output_type": "stream",
          "name": "stdout",
          "text": [
            "Epoch: 38 | Epoch Time: 4m 13s\n",
            "\tTrain Loss: 3.378 | Train IoU: 0.7514008138199543\n",
            "\t Val. Loss: 5.689 | Valid IoU: 0.6636094754867008\n"
          ]
        },
        {
          "output_type": "stream",
          "name": "stderr",
          "text": [
            "100%|██████████| 149/149 [03:31<00:00,  1.42s/it]\n",
            "100%|██████████| 32/32 [00:41<00:00,  1.29s/it]\n"
          ]
        },
        {
          "output_type": "stream",
          "name": "stdout",
          "text": [
            "Epoch: 39 | Epoch Time: 4m 12s\n",
            "\tTrain Loss: 3.267 | Train IoU: 0.7561037898227936\n",
            "\t Val. Loss: 5.672 | Valid IoU: 0.6701921224957099\n"
          ]
        },
        {
          "output_type": "stream",
          "name": "stderr",
          "text": [
            "100%|██████████| 149/149 [03:30<00:00,  1.41s/it]\n",
            "100%|██████████| 32/32 [00:41<00:00,  1.29s/it]\n"
          ]
        },
        {
          "output_type": "stream",
          "name": "stdout",
          "text": [
            "Epoch: 40 | Epoch Time: 4m 11s\n",
            "\tTrain Loss: 3.354 | Train IoU: 0.7531259637487301\n",
            "\t Val. Loss: 5.658 | Valid IoU: 0.6739250809114152\n"
          ]
        },
        {
          "output_type": "stream",
          "name": "stderr",
          "text": [
            "100%|██████████| 149/149 [03:32<00:00,  1.42s/it]\n",
            "100%|██████████| 32/32 [00:41<00:00,  1.31s/it]\n"
          ]
        },
        {
          "output_type": "stream",
          "name": "stdout",
          "text": [
            "Epoch: 41 | Epoch Time: 4m 14s\n",
            "\tTrain Loss: 3.299 | Train IoU: 0.7538346272461228\n",
            "\t Val. Loss: 5.696 | Valid IoU: 0.675270656534543\n"
          ]
        },
        {
          "output_type": "stream",
          "name": "stderr",
          "text": [
            "100%|██████████| 149/149 [03:30<00:00,  1.41s/it]\n",
            "100%|██████████| 32/32 [00:41<00:00,  1.29s/it]\n"
          ]
        },
        {
          "output_type": "stream",
          "name": "stdout",
          "text": [
            "Epoch: 42 | Epoch Time: 4m 11s\n",
            "\tTrain Loss: 3.172 | Train IoU: 0.7608366173877184\n",
            "\t Val. Loss: 5.682 | Valid IoU: 0.6829787440908075\n"
          ]
        },
        {
          "output_type": "stream",
          "name": "stderr",
          "text": [
            "100%|██████████| 149/149 [03:32<00:00,  1.42s/it]\n",
            "100%|██████████| 32/32 [00:41<00:00,  1.30s/it]\n"
          ]
        },
        {
          "output_type": "stream",
          "name": "stdout",
          "text": [
            "Epoch: 43 | Epoch Time: 4m 13s\n",
            "\tTrain Loss: 3.125 | Train IoU: 0.7620142331888975\n",
            "\t Val. Loss: 5.650 | Valid IoU: 0.6831648797194129\n"
          ]
        },
        {
          "output_type": "stream",
          "name": "stderr",
          "text": [
            "100%|██████████| 149/149 [03:28<00:00,  1.40s/it]\n",
            "100%|██████████| 32/32 [00:41<00:00,  1.29s/it]\n"
          ]
        },
        {
          "output_type": "stream",
          "name": "stdout",
          "text": [
            "Epoch: 44 | Epoch Time: 4m 10s\n",
            "\tTrain Loss: 3.102 | Train IoU: 0.7632825041705665\n",
            "\t Val. Loss: 5.996 | Valid IoU: 0.6633178101796253\n"
          ]
        },
        {
          "output_type": "stream",
          "name": "stderr",
          "text": [
            "100%|██████████| 149/149 [03:30<00:00,  1.41s/it]\n",
            "100%|██████████| 32/32 [00:41<00:00,  1.28s/it]\n"
          ]
        },
        {
          "output_type": "stream",
          "name": "stdout",
          "text": [
            "Epoch: 45 | Epoch Time: 4m 11s\n",
            "\tTrain Loss: 3.090 | Train IoU: 0.764897762829423\n",
            "\t Val. Loss: 5.753 | Valid IoU: 0.6802347185241057\n"
          ]
        },
        {
          "output_type": "stream",
          "name": "stderr",
          "text": [
            "100%|██████████| 149/149 [03:33<00:00,  1.44s/it]\n",
            "100%|██████████| 32/32 [00:41<00:00,  1.30s/it]\n"
          ]
        },
        {
          "output_type": "stream",
          "name": "stdout",
          "text": [
            "Epoch: 46 | Epoch Time: 4m 15s\n",
            "\tTrain Loss: 3.012 | Train IoU: 0.7671794197825595\n",
            "\t Val. Loss: 5.937 | Valid IoU: 0.6726733898497369\n"
          ]
        },
        {
          "output_type": "stream",
          "name": "stderr",
          "text": [
            "100%|██████████| 149/149 [03:31<00:00,  1.42s/it]\n",
            "100%|██████████| 32/32 [00:41<00:00,  1.29s/it]\n"
          ]
        },
        {
          "output_type": "stream",
          "name": "stdout",
          "text": [
            "Epoch: 47 | Epoch Time: 4m 12s\n",
            "\tTrain Loss: 3.001 | Train IoU: 0.7683408984894213\n",
            "\t Val. Loss: 5.858 | Valid IoU: 0.676918044849139\n"
          ]
        },
        {
          "output_type": "stream",
          "name": "stderr",
          "text": [
            "100%|██████████| 149/149 [03:31<00:00,  1.42s/it]\n",
            "100%|██████████| 32/32 [00:41<00:00,  1.30s/it]\n"
          ]
        },
        {
          "output_type": "stream",
          "name": "stdout",
          "text": [
            "Epoch: 48 | Epoch Time: 4m 12s\n",
            "\tTrain Loss: 2.971 | Train IoU: 0.7686788814453129\n",
            "\t Val. Loss: 5.832 | Valid IoU: 0.6831332484807977\n"
          ]
        },
        {
          "output_type": "stream",
          "name": "stderr",
          "text": [
            "100%|██████████| 149/149 [03:30<00:00,  1.41s/it]\n",
            "100%|██████████| 32/32 [00:41<00:00,  1.30s/it]\n"
          ]
        },
        {
          "output_type": "stream",
          "name": "stdout",
          "text": [
            "Epoch: 49 | Epoch Time: 4m 12s\n",
            "\tTrain Loss: 2.930 | Train IoU: 0.7697885090185405\n",
            "\t Val. Loss: 5.689 | Valid IoU: 0.6744611665289397\n"
          ]
        },
        {
          "output_type": "stream",
          "name": "stderr",
          "text": [
            "100%|██████████| 149/149 [03:31<00:00,  1.42s/it]\n",
            "100%|██████████| 32/32 [00:41<00:00,  1.31s/it]\n"
          ]
        },
        {
          "output_type": "stream",
          "name": "stdout",
          "text": [
            "Epoch: 50 | Epoch Time: 4m 13s\n",
            "\tTrain Loss: 2.874 | Train IoU: 0.7725232874597914\n",
            "\t Val. Loss: 5.758 | Valid IoU: 0.6895880854074781\n"
          ]
        },
        {
          "output_type": "stream",
          "name": "stderr",
          "text": [
            "100%|██████████| 149/149 [03:35<00:00,  1.45s/it]\n",
            "100%|██████████| 32/32 [00:41<00:00,  1.31s/it]\n"
          ]
        },
        {
          "output_type": "stream",
          "name": "stdout",
          "text": [
            "Epoch: 51 | Epoch Time: 4m 17s\n",
            "\tTrain Loss: 2.854 | Train IoU: 0.7735935563280412\n",
            "\t Val. Loss: 5.706 | Valid IoU: 0.6753295915442504\n"
          ]
        },
        {
          "output_type": "stream",
          "name": "stderr",
          "text": [
            "100%|██████████| 149/149 [03:32<00:00,  1.42s/it]\n",
            "100%|██████████| 32/32 [00:41<00:00,  1.29s/it]\n"
          ]
        },
        {
          "output_type": "stream",
          "name": "stdout",
          "text": [
            "Epoch: 52 | Epoch Time: 4m 13s\n",
            "\tTrain Loss: 2.808 | Train IoU: 0.7763765669132991\n",
            "\t Val. Loss: 5.931 | Valid IoU: 0.6792628825011352\n"
          ]
        },
        {
          "output_type": "stream",
          "name": "stderr",
          "text": [
            "100%|██████████| 149/149 [03:34<00:00,  1.44s/it]\n",
            "100%|██████████| 32/32 [00:41<00:00,  1.31s/it]\n"
          ]
        },
        {
          "output_type": "stream",
          "name": "stdout",
          "text": [
            "Epoch: 53 | Epoch Time: 4m 16s\n",
            "\tTrain Loss: 2.807 | Train IoU: 0.7761397389441458\n",
            "\t Val. Loss: 5.727 | Valid IoU: 0.6803470971234901\n"
          ]
        },
        {
          "output_type": "stream",
          "name": "stderr",
          "text": [
            "100%|██████████| 149/149 [03:32<00:00,  1.43s/it]\n",
            "100%|██████████| 32/32 [00:41<00:00,  1.31s/it]\n"
          ]
        },
        {
          "output_type": "stream",
          "name": "stdout",
          "text": [
            "Epoch: 54 | Epoch Time: 4m 14s\n",
            "\tTrain Loss: 2.743 | Train IoU: 0.7801848156571821\n",
            "\t Val. Loss: 5.869 | Valid IoU: 0.6959832294671859\n"
          ]
        },
        {
          "output_type": "stream",
          "name": "stderr",
          "text": [
            "100%|██████████| 149/149 [03:32<00:00,  1.43s/it]\n",
            "100%|██████████| 32/32 [00:41<00:00,  1.30s/it]\n"
          ]
        },
        {
          "output_type": "stream",
          "name": "stdout",
          "text": [
            "Epoch: 55 | Epoch Time: 4m 14s\n",
            "\tTrain Loss: 2.757 | Train IoU: 0.7798762349819875\n",
            "\t Val. Loss: 5.847 | Valid IoU: 0.6771919459708003\n"
          ]
        },
        {
          "output_type": "stream",
          "name": "stderr",
          "text": [
            "100%|██████████| 149/149 [03:32<00:00,  1.43s/it]\n",
            "100%|██████████| 32/32 [00:41<00:00,  1.30s/it]\n"
          ]
        },
        {
          "output_type": "stream",
          "name": "stdout",
          "text": [
            "Epoch: 56 | Epoch Time: 4m 14s\n",
            "\tTrain Loss: 2.806 | Train IoU: 0.775519081407643\n",
            "\t Val. Loss: 6.088 | Valid IoU: 0.6752016058063873\n"
          ]
        },
        {
          "output_type": "stream",
          "name": "stderr",
          "text": [
            "100%|██████████| 149/149 [03:32<00:00,  1.43s/it]\n",
            "100%|██████████| 32/32 [00:41<00:00,  1.30s/it]\n"
          ]
        },
        {
          "output_type": "stream",
          "name": "stdout",
          "text": [
            "Epoch: 57 | Epoch Time: 4m 14s\n",
            "\tTrain Loss: 2.733 | Train IoU: 0.7795278554120488\n",
            "\t Val. Loss: 5.974 | Valid IoU: 0.6796575131153599\n"
          ]
        },
        {
          "output_type": "stream",
          "name": "stderr",
          "text": [
            "100%|██████████| 149/149 [03:30<00:00,  1.42s/it]\n",
            "100%|██████████| 32/32 [00:41<00:00,  1.30s/it]\n"
          ]
        },
        {
          "output_type": "stream",
          "name": "stdout",
          "text": [
            "Epoch: 58 | Epoch Time: 4m 12s\n",
            "\tTrain Loss: 2.689 | Train IoU: 0.7824033225624114\n",
            "\t Val. Loss: 5.922 | Valid IoU: 0.6896183386928842\n"
          ]
        },
        {
          "output_type": "stream",
          "name": "stderr",
          "text": [
            "100%|██████████| 149/149 [03:31<00:00,  1.42s/it]\n",
            "100%|██████████| 32/32 [00:41<00:00,  1.30s/it]\n"
          ]
        },
        {
          "output_type": "stream",
          "name": "stdout",
          "text": [
            "Epoch: 59 | Epoch Time: 4m 12s\n",
            "\tTrain Loss: 2.637 | Train IoU: 0.785246499405712\n",
            "\t Val. Loss: 5.846 | Valid IoU: 0.6837736479996999\n"
          ]
        },
        {
          "output_type": "stream",
          "name": "stderr",
          "text": [
            "100%|██████████| 149/149 [03:31<00:00,  1.42s/it]\n",
            "100%|██████████| 32/32 [00:41<00:00,  1.29s/it]\n"
          ]
        },
        {
          "output_type": "stream",
          "name": "stdout",
          "text": [
            "Epoch: 60 | Epoch Time: 4m 13s\n",
            "\tTrain Loss: 2.604 | Train IoU: 0.7865154564100888\n",
            "\t Val. Loss: 6.072 | Valid IoU: 0.6922965373327522\n"
          ]
        },
        {
          "output_type": "stream",
          "name": "stderr",
          "text": [
            "100%|██████████| 149/149 [03:33<00:00,  1.43s/it]\n",
            "100%|██████████| 32/32 [00:41<00:00,  1.31s/it]\n"
          ]
        },
        {
          "output_type": "stream",
          "name": "stdout",
          "text": [
            "Epoch: 61 | Epoch Time: 4m 15s\n",
            "\tTrain Loss: 2.576 | Train IoU: 0.7874320857405561\n",
            "\t Val. Loss: 5.922 | Valid IoU: 0.682350630414197\n"
          ]
        },
        {
          "output_type": "stream",
          "name": "stderr",
          "text": [
            "100%|██████████| 149/149 [03:31<00:00,  1.42s/it]\n",
            "100%|██████████| 32/32 [00:41<00:00,  1.29s/it]\n"
          ]
        },
        {
          "output_type": "stream",
          "name": "stdout",
          "text": [
            "Epoch: 62 | Epoch Time: 4m 12s\n",
            "\tTrain Loss: 2.583 | Train IoU: 0.7876061290226424\n",
            "\t Val. Loss: 6.319 | Valid IoU: 0.6628109098002897\n"
          ]
        },
        {
          "output_type": "stream",
          "name": "stderr",
          "text": [
            "100%|██████████| 149/149 [03:29<00:00,  1.40s/it]\n",
            "100%|██████████| 32/32 [00:41<00:00,  1.29s/it]\n"
          ]
        },
        {
          "output_type": "stream",
          "name": "stdout",
          "text": [
            "Epoch: 63 | Epoch Time: 4m 10s\n",
            "\tTrain Loss: 2.572 | Train IoU: 0.7890139474397353\n",
            "\t Val. Loss: 6.128 | Valid IoU: 0.664679659242469\n"
          ]
        },
        {
          "output_type": "stream",
          "name": "stderr",
          "text": [
            "100%|██████████| 149/149 [03:29<00:00,  1.40s/it]\n",
            "100%|██████████| 32/32 [00:40<00:00,  1.28s/it]\n"
          ]
        },
        {
          "output_type": "stream",
          "name": "stdout",
          "text": [
            "Epoch: 64 | Epoch Time: 4m 10s\n",
            "\tTrain Loss: 2.769 | Train IoU: 0.7771604151453376\n",
            "\t Val. Loss: 5.998 | Valid IoU: 0.6823533632457193\n"
          ]
        },
        {
          "output_type": "stream",
          "name": "stderr",
          "text": [
            "100%|██████████| 149/149 [03:30<00:00,  1.41s/it]\n",
            "100%|██████████| 32/32 [00:41<00:00,  1.30s/it]\n"
          ]
        },
        {
          "output_type": "stream",
          "name": "stdout",
          "text": [
            "Epoch: 65 | Epoch Time: 4m 11s\n",
            "\tTrain Loss: 2.588 | Train IoU: 0.7868950204714038\n",
            "\t Val. Loss: 6.075 | Valid IoU: 0.6838526129135319\n"
          ]
        },
        {
          "output_type": "stream",
          "name": "stderr",
          "text": [
            "100%|██████████| 149/149 [03:29<00:00,  1.40s/it]\n",
            "100%|██████████| 32/32 [00:41<00:00,  1.30s/it]\n"
          ]
        },
        {
          "output_type": "stream",
          "name": "stdout",
          "text": [
            "Epoch: 66 | Epoch Time: 4m 10s\n",
            "\tTrain Loss: 2.527 | Train IoU: 0.7897985553522683\n",
            "\t Val. Loss: 6.031 | Valid IoU: 0.6865030343135096\n"
          ]
        },
        {
          "output_type": "stream",
          "name": "stderr",
          "text": [
            "100%|██████████| 149/149 [03:32<00:00,  1.42s/it]\n",
            "100%|██████████| 32/32 [00:41<00:00,  1.29s/it]\n"
          ]
        },
        {
          "output_type": "stream",
          "name": "stdout",
          "text": [
            "Epoch: 67 | Epoch Time: 4m 13s\n",
            "\tTrain Loss: 2.445 | Train IoU: 0.7945620413927874\n",
            "\t Val. Loss: 5.795 | Valid IoU: 0.6809618383440023\n"
          ]
        },
        {
          "output_type": "stream",
          "name": "stderr",
          "text": [
            "100%|██████████| 149/149 [03:30<00:00,  1.41s/it]\n",
            "100%|██████████| 32/32 [00:41<00:00,  1.30s/it]\n"
          ]
        },
        {
          "output_type": "stream",
          "name": "stdout",
          "text": [
            "Epoch: 68 | Epoch Time: 4m 12s\n",
            "\tTrain Loss: 2.458 | Train IoU: 0.7936754480911107\n",
            "\t Val. Loss: 6.038 | Valid IoU: 0.6953011576204933\n"
          ]
        },
        {
          "output_type": "stream",
          "name": "stderr",
          "text": [
            "100%|██████████| 149/149 [03:32<00:00,  1.42s/it]\n",
            "100%|██████████| 32/32 [00:40<00:00,  1.28s/it]\n"
          ]
        },
        {
          "output_type": "stream",
          "name": "stdout",
          "text": [
            "Epoch: 69 | Epoch Time: 4m 13s\n",
            "\tTrain Loss: 2.422 | Train IoU: 0.7953661893534612\n",
            "\t Val. Loss: 6.282 | Valid IoU: 0.6667329246513276\n"
          ]
        },
        {
          "output_type": "stream",
          "name": "stderr",
          "text": [
            "100%|██████████| 149/149 [03:36<00:00,  1.45s/it]\n",
            "100%|██████████| 32/32 [00:42<00:00,  1.33s/it]\n"
          ]
        },
        {
          "output_type": "stream",
          "name": "stdout",
          "text": [
            "Epoch: 70 | Epoch Time: 4m 18s\n",
            "\tTrain Loss: 2.369 | Train IoU: 0.797345672155068\n",
            "\t Val. Loss: 6.177 | Valid IoU: 0.6939729202357502\n"
          ]
        },
        {
          "output_type": "stream",
          "name": "stderr",
          "text": [
            "100%|██████████| 149/149 [03:35<00:00,  1.45s/it]\n",
            "100%|██████████| 32/32 [00:42<00:00,  1.33s/it]\n"
          ]
        },
        {
          "output_type": "stream",
          "name": "stdout",
          "text": [
            "Epoch: 71 | Epoch Time: 4m 17s\n",
            "\tTrain Loss: 2.337 | Train IoU: 0.7992182900632265\n",
            "\t Val. Loss: 6.164 | Valid IoU: 0.6710263824098573\n"
          ]
        },
        {
          "output_type": "stream",
          "name": "stderr",
          "text": [
            "100%|██████████| 149/149 [03:33<00:00,  1.44s/it]\n",
            "100%|██████████| 32/32 [00:41<00:00,  1.31s/it]\n"
          ]
        },
        {
          "output_type": "stream",
          "name": "stdout",
          "text": [
            "Epoch: 72 | Epoch Time: 4m 15s\n",
            "\tTrain Loss: 2.316 | Train IoU: 0.8003766878489759\n",
            "\t Val. Loss: 6.065 | Valid IoU: 0.6957337751835384\n"
          ]
        },
        {
          "output_type": "stream",
          "name": "stderr",
          "text": [
            "100%|██████████| 149/149 [03:31<00:00,  1.42s/it]\n",
            "100%|██████████| 32/32 [00:41<00:00,  1.30s/it]\n"
          ]
        },
        {
          "output_type": "stream",
          "name": "stdout",
          "text": [
            "Epoch: 73 | Epoch Time: 4m 12s\n",
            "\tTrain Loss: 2.281 | Train IoU: 0.8022461291417861\n",
            "\t Val. Loss: 5.962 | Valid IoU: 0.6894362281242267\n"
          ]
        },
        {
          "output_type": "stream",
          "name": "stderr",
          "text": [
            "100%|██████████| 149/149 [03:34<00:00,  1.44s/it]\n",
            "100%|██████████| 32/32 [00:42<00:00,  1.33s/it]\n"
          ]
        },
        {
          "output_type": "stream",
          "name": "stdout",
          "text": [
            "Epoch: 74 | Epoch Time: 4m 17s\n",
            "\tTrain Loss: 2.274 | Train IoU: 0.8023421748178847\n",
            "\t Val. Loss: 6.352 | Valid IoU: 0.6756608584962618\n"
          ]
        },
        {
          "output_type": "stream",
          "name": "stderr",
          "text": [
            "100%|██████████| 149/149 [03:38<00:00,  1.47s/it]\n",
            "100%|██████████| 32/32 [00:41<00:00,  1.31s/it]\n"
          ]
        },
        {
          "output_type": "stream",
          "name": "stdout",
          "text": [
            "Epoch: 75 | Epoch Time: 4m 20s\n",
            "\tTrain Loss: 2.432 | Train IoU: 0.7943183704518977\n",
            "\t Val. Loss: 6.116 | Valid IoU: 0.6918190854106697\n"
          ]
        },
        {
          "output_type": "stream",
          "name": "stderr",
          "text": [
            "100%|██████████| 149/149 [03:39<00:00,  1.47s/it]\n",
            "100%|██████████| 32/32 [00:42<00:00,  1.34s/it]\n"
          ]
        },
        {
          "output_type": "stream",
          "name": "stdout",
          "text": [
            "Epoch: 76 | Epoch Time: 4m 22s\n",
            "\tTrain Loss: 2.469 | Train IoU: 0.7926333312502508\n",
            "\t Val. Loss: 6.222 | Valid IoU: 0.6745982339451903\n"
          ]
        },
        {
          "output_type": "stream",
          "name": "stderr",
          "text": [
            "100%|██████████| 149/149 [03:33<00:00,  1.44s/it]\n",
            "100%|██████████| 32/32 [00:41<00:00,  1.30s/it]\n"
          ]
        },
        {
          "output_type": "stream",
          "name": "stdout",
          "text": [
            "Epoch: 77 | Epoch Time: 4m 15s\n",
            "\tTrain Loss: 2.409 | Train IoU: 0.7944416696970101\n",
            "\t Val. Loss: 6.202 | Valid IoU: 0.6777314806307174\n"
          ]
        },
        {
          "output_type": "stream",
          "name": "stderr",
          "text": [
            "100%|██████████| 149/149 [03:38<00:00,  1.47s/it]\n",
            "100%|██████████| 32/32 [00:42<00:00,  1.31s/it]\n"
          ]
        },
        {
          "output_type": "stream",
          "name": "stdout",
          "text": [
            "Epoch: 78 | Epoch Time: 4m 20s\n",
            "\tTrain Loss: 2.319 | Train IoU: 0.7994285479066408\n",
            "\t Val. Loss: 6.267 | Valid IoU: 0.6877729469006216\n"
          ]
        },
        {
          "output_type": "stream",
          "name": "stderr",
          "text": [
            "100%|██████████| 149/149 [03:35<00:00,  1.45s/it]\n",
            "100%|██████████| 32/32 [00:41<00:00,  1.29s/it]\n"
          ]
        },
        {
          "output_type": "stream",
          "name": "stdout",
          "text": [
            "Epoch: 79 | Epoch Time: 4m 16s\n",
            "\tTrain Loss: 2.274 | Train IoU: 0.8026153453683239\n",
            "\t Val. Loss: 6.222 | Valid IoU: 0.6846764444970949\n"
          ]
        },
        {
          "output_type": "stream",
          "name": "stderr",
          "text": [
            "100%|██████████| 149/149 [03:34<00:00,  1.44s/it]\n",
            "100%|██████████| 32/32 [00:42<00:00,  1.32s/it]\n"
          ]
        },
        {
          "output_type": "stream",
          "name": "stdout",
          "text": [
            "Epoch: 80 | Epoch Time: 4m 16s\n",
            "\tTrain Loss: 2.206 | Train IoU: 0.8056032732575701\n",
            "\t Val. Loss: 6.103 | Valid IoU: 0.7020962162734532\n"
          ]
        },
        {
          "output_type": "stream",
          "name": "stderr",
          "text": [
            "100%|██████████| 149/149 [03:35<00:00,  1.45s/it]\n",
            "100%|██████████| 32/32 [00:42<00:00,  1.33s/it]\n"
          ]
        },
        {
          "output_type": "stream",
          "name": "stdout",
          "text": [
            "Epoch: 81 | Epoch Time: 4m 18s\n",
            "\tTrain Loss: 2.190 | Train IoU: 0.8062642312491534\n",
            "\t Val. Loss: 6.255 | Valid IoU: 0.6848786628429967\n"
          ]
        },
        {
          "output_type": "stream",
          "name": "stderr",
          "text": [
            "100%|██████████| 149/149 [03:35<00:00,  1.45s/it]\n",
            "100%|██████████| 32/32 [00:41<00:00,  1.31s/it]\n"
          ]
        },
        {
          "output_type": "stream",
          "name": "stdout",
          "text": [
            "Epoch: 82 | Epoch Time: 4m 17s\n",
            "\tTrain Loss: 2.189 | Train IoU: 0.8070669082404526\n",
            "\t Val. Loss: 6.153 | Valid IoU: 0.7019204878070165\n"
          ]
        },
        {
          "output_type": "stream",
          "name": "stderr",
          "text": [
            "100%|██████████| 149/149 [03:30<00:00,  1.41s/it]\n",
            "100%|██████████| 32/32 [00:41<00:00,  1.30s/it]\n"
          ]
        },
        {
          "output_type": "stream",
          "name": "stdout",
          "text": [
            "Epoch: 83 | Epoch Time: 4m 12s\n",
            "\tTrain Loss: 2.225 | Train IoU: 0.8048233975526838\n",
            "\t Val. Loss: 6.184 | Valid IoU: 0.6955569597674548\n"
          ]
        },
        {
          "output_type": "stream",
          "name": "stderr",
          "text": [
            "100%|██████████| 149/149 [03:30<00:00,  1.41s/it]\n",
            "100%|██████████| 32/32 [00:41<00:00,  1.31s/it]\n"
          ]
        },
        {
          "output_type": "stream",
          "name": "stdout",
          "text": [
            "Epoch: 84 | Epoch Time: 4m 12s\n",
            "\tTrain Loss: 2.138 | Train IoU: 0.8076510178344407\n",
            "\t Val. Loss: 6.311 | Valid IoU: 0.6832802255209771\n"
          ]
        },
        {
          "output_type": "stream",
          "name": "stderr",
          "text": [
            "100%|██████████| 149/149 [03:32<00:00,  1.43s/it]\n",
            "100%|██████████| 32/32 [00:41<00:00,  1.30s/it]\n"
          ]
        },
        {
          "output_type": "stream",
          "name": "stdout",
          "text": [
            "Epoch: 85 | Epoch Time: 4m 14s\n",
            "\tTrain Loss: 2.070 | Train IoU: 0.8116234902174804\n",
            "\t Val. Loss: 6.122 | Valid IoU: 0.6891062264975316\n"
          ]
        },
        {
          "output_type": "stream",
          "name": "stderr",
          "text": [
            "100%|██████████| 149/149 [03:33<00:00,  1.43s/it]\n",
            "100%|██████████| 32/32 [00:42<00:00,  1.33s/it]\n"
          ]
        },
        {
          "output_type": "stream",
          "name": "stdout",
          "text": [
            "Epoch: 86 | Epoch Time: 4m 16s\n",
            "\tTrain Loss: 2.085 | Train IoU: 0.8116576717862356\n",
            "\t Val. Loss: 6.308 | Valid IoU: 0.6876600339643525\n"
          ]
        },
        {
          "output_type": "stream",
          "name": "stderr",
          "text": [
            "100%|██████████| 149/149 [03:35<00:00,  1.44s/it]\n",
            "100%|██████████| 32/32 [00:42<00:00,  1.31s/it]\n"
          ]
        },
        {
          "output_type": "stream",
          "name": "stdout",
          "text": [
            "Epoch: 87 | Epoch Time: 4m 17s\n",
            "\tTrain Loss: 2.106 | Train IoU: 0.8111841693811627\n",
            "\t Val. Loss: 6.135 | Valid IoU: 0.6903811269787826\n"
          ]
        },
        {
          "output_type": "stream",
          "name": "stderr",
          "text": [
            "100%|██████████| 149/149 [03:34<00:00,  1.44s/it]\n",
            "100%|██████████| 32/32 [00:43<00:00,  1.36s/it]\n"
          ]
        },
        {
          "output_type": "stream",
          "name": "stdout",
          "text": [
            "Epoch: 88 | Epoch Time: 4m 18s\n",
            "\tTrain Loss: 2.054 | Train IoU: 0.8126164614040338\n",
            "\t Val. Loss: 6.242 | Valid IoU: 0.6920276067501397\n"
          ]
        },
        {
          "output_type": "stream",
          "name": "stderr",
          "text": [
            "100%|██████████| 149/149 [03:39<00:00,  1.47s/it]\n",
            "100%|██████████| 32/32 [00:42<00:00,  1.33s/it]\n"
          ]
        },
        {
          "output_type": "stream",
          "name": "stdout",
          "text": [
            "Epoch: 89 | Epoch Time: 4m 21s\n",
            "\tTrain Loss: 2.032 | Train IoU: 0.8146355754784441\n",
            "\t Val. Loss: 6.359 | Valid IoU: 0.695774772092911\n"
          ]
        },
        {
          "output_type": "stream",
          "name": "stderr",
          "text": [
            "100%|██████████| 149/149 [03:34<00:00,  1.44s/it]\n",
            "100%|██████████| 32/32 [00:42<00:00,  1.32s/it]\n"
          ]
        },
        {
          "output_type": "stream",
          "name": "stdout",
          "text": [
            "Epoch: 90 | Epoch Time: 4m 17s\n",
            "\tTrain Loss: 2.001 | Train IoU: 0.81592681594286\n",
            "\t Val. Loss: 6.141 | Valid IoU: 0.6926349585293644\n"
          ]
        },
        {
          "output_type": "stream",
          "name": "stderr",
          "text": [
            "100%|██████████| 149/149 [03:34<00:00,  1.44s/it]\n",
            "100%|██████████| 32/32 [00:42<00:00,  1.33s/it]\n"
          ]
        },
        {
          "output_type": "stream",
          "name": "stdout",
          "text": [
            "Epoch: 91 | Epoch Time: 4m 16s\n",
            "\tTrain Loss: 2.024 | Train IoU: 0.8152093897379252\n",
            "\t Val. Loss: 6.435 | Valid IoU: 0.6918390995966825\n"
          ]
        },
        {
          "output_type": "stream",
          "name": "stderr",
          "text": [
            "100%|██████████| 149/149 [03:33<00:00,  1.43s/it]\n",
            "100%|██████████| 32/32 [00:41<00:00,  1.30s/it]\n"
          ]
        },
        {
          "output_type": "stream",
          "name": "stdout",
          "text": [
            "Epoch: 92 | Epoch Time: 4m 15s\n",
            "\tTrain Loss: 2.054 | Train IoU: 0.8134583801642746\n",
            "\t Val. Loss: 6.481 | Valid IoU: 0.6929582966807023\n"
          ]
        },
        {
          "output_type": "stream",
          "name": "stderr",
          "text": [
            "100%|██████████| 149/149 [03:33<00:00,  1.43s/it]\n",
            "100%|██████████| 32/32 [00:42<00:00,  1.32s/it]\n"
          ]
        },
        {
          "output_type": "stream",
          "name": "stdout",
          "text": [
            "Epoch: 93 | Epoch Time: 4m 15s\n",
            "\tTrain Loss: 2.002 | Train IoU: 0.8155328999917459\n",
            "\t Val. Loss: 6.661 | Valid IoU: 0.6937115024059519\n"
          ]
        },
        {
          "output_type": "stream",
          "name": "stderr",
          "text": [
            "100%|██████████| 149/149 [03:32<00:00,  1.43s/it]\n",
            "100%|██████████| 32/32 [00:42<00:00,  1.32s/it]\n"
          ]
        },
        {
          "output_type": "stream",
          "name": "stdout",
          "text": [
            "Epoch: 94 | Epoch Time: 4m 14s\n",
            "\tTrain Loss: 2.011 | Train IoU: 0.8157543209655322\n",
            "\t Val. Loss: 6.470 | Valid IoU: 0.6870152968158943\n"
          ]
        },
        {
          "output_type": "stream",
          "name": "stderr",
          "text": [
            "100%|██████████| 149/149 [03:33<00:00,  1.43s/it]\n",
            "100%|██████████| 32/32 [00:41<00:00,  1.31s/it]\n"
          ]
        },
        {
          "output_type": "stream",
          "name": "stdout",
          "text": [
            "Epoch: 95 | Epoch Time: 4m 15s\n",
            "\tTrain Loss: 1.990 | Train IoU: 0.8165264744141698\n",
            "\t Val. Loss: 6.663 | Valid IoU: 0.6952210889614697\n"
          ]
        },
        {
          "output_type": "stream",
          "name": "stderr",
          "text": [
            "100%|██████████| 149/149 [03:34<00:00,  1.44s/it]\n",
            "100%|██████████| 32/32 [00:41<00:00,  1.31s/it]\n"
          ]
        },
        {
          "output_type": "stream",
          "name": "stdout",
          "text": [
            "Epoch: 96 | Epoch Time: 4m 16s\n",
            "\tTrain Loss: 1.941 | Train IoU: 0.8197444683343396\n",
            "\t Val. Loss: 6.474 | Valid IoU: 0.6971095038106911\n"
          ]
        },
        {
          "output_type": "stream",
          "name": "stderr",
          "text": [
            "100%|██████████| 149/149 [03:33<00:00,  1.43s/it]\n",
            "100%|██████████| 32/32 [00:41<00:00,  1.31s/it]\n"
          ]
        },
        {
          "output_type": "stream",
          "name": "stdout",
          "text": [
            "Epoch: 97 | Epoch Time: 4m 15s\n",
            "\tTrain Loss: 1.974 | Train IoU: 0.8168171649856787\n",
            "\t Val. Loss: 6.751 | Valid IoU: 0.7021379581974055\n"
          ]
        },
        {
          "output_type": "stream",
          "name": "stderr",
          "text": [
            "100%|██████████| 149/149 [03:33<00:00,  1.44s/it]\n",
            "100%|██████████| 32/32 [00:42<00:00,  1.31s/it]\n"
          ]
        },
        {
          "output_type": "stream",
          "name": "stdout",
          "text": [
            "Epoch: 98 | Epoch Time: 4m 16s\n",
            "\tTrain Loss: 1.931 | Train IoU: 0.819637201635212\n",
            "\t Val. Loss: 6.617 | Valid IoU: 0.6996073203030551\n"
          ]
        },
        {
          "output_type": "stream",
          "name": "stderr",
          "text": [
            "100%|██████████| 149/149 [03:32<00:00,  1.43s/it]\n",
            "100%|██████████| 32/32 [00:41<00:00,  1.31s/it]\n"
          ]
        },
        {
          "output_type": "stream",
          "name": "stdout",
          "text": [
            "Epoch: 99 | Epoch Time: 4m 14s\n",
            "\tTrain Loss: 1.977 | Train IoU: 0.8174474353362353\n",
            "\t Val. Loss: 6.576 | Valid IoU: 0.6975422051072664\n"
          ]
        },
        {
          "output_type": "stream",
          "name": "stderr",
          "text": [
            "100%|██████████| 149/149 [03:32<00:00,  1.42s/it]\n",
            "100%|██████████| 32/32 [00:42<00:00,  1.32s/it]\n"
          ]
        },
        {
          "output_type": "stream",
          "name": "stdout",
          "text": [
            "Epoch: 100 | Epoch Time: 4m 14s\n",
            "\tTrain Loss: 1.919 | Train IoU: 0.8196457478173186\n",
            "\t Val. Loss: 6.452 | Valid IoU: 0.6972649076269354\n"
          ]
        }
      ],
      "source": [
        "#training for 100 epochs and save the best model \n",
        "best_valid_loss = float('inf')\n",
        "\n",
        "for epoch in range(100):\n",
        "    start_time = time.time()\n",
        "    \n",
        "    train_loss,train_iou = train(net, train_loader, optimizer, device,label_dic)\n",
        "    valid_loss,valid_iou = evaluation(net, valid_loader,  device,label_dic)\n",
        "    training_losses.append(train_loss)\n",
        "    valid_losses.append(valid_loss)\n",
        "    training_iou.append(train_iou)\n",
        "    validation_iou.append(valid_iou)\n",
        "    end_time = time.time()\n",
        "        \n",
        "    epoch_mins, epoch_secs = epoch_time(start_time, end_time)# ...\n",
        "\n",
        "    if valid_loss < best_valid_loss:\n",
        "        best_valid_loss = valid_loss\n",
        "        torch.save(net.state_dict(), 'net.pt')\n",
        "    \n",
        "    print(f'Epoch: {epoch+1:02} | Epoch Time: {epoch_mins}m {epoch_secs}s')\n",
        "    print(f'\\tTrain Loss: {train_loss:.3f} | Train IoU: {train_iou}')\n",
        "    print(f'\\t Val. Loss: {valid_loss:.3f} | Valid IoU: {valid_iou}')\n",
        "\n",
        "    if (epoch+1) == 100:\n",
        "      torch.save(net.state_dict(), 'net_final.pt')"
      ]
    },
    {
      "cell_type": "code",
      "execution_count": null,
      "metadata": {
        "id": "m0FvncTkmse6",
        "colab": {
          "base_uri": "https://localhost:8080/",
          "height": 17
        },
        "outputId": "95dc9c2a-565e-45b0-a9e2-f61f17679823"
      },
      "outputs": [
        {
          "output_type": "display_data",
          "data": {
            "application/javascript": [
              "\n",
              "    async function download(id, filename, size) {\n",
              "      if (!google.colab.kernel.accessAllowed) {\n",
              "        return;\n",
              "      }\n",
              "      const div = document.createElement('div');\n",
              "      const label = document.createElement('label');\n",
              "      label.textContent = `Downloading \"${filename}\": `;\n",
              "      div.appendChild(label);\n",
              "      const progress = document.createElement('progress');\n",
              "      progress.max = size;\n",
              "      div.appendChild(progress);\n",
              "      document.body.appendChild(div);\n",
              "\n",
              "      const buffers = [];\n",
              "      let downloaded = 0;\n",
              "\n",
              "      const channel = await google.colab.kernel.comms.open(id);\n",
              "      // Send a message to notify the kernel that we're ready.\n",
              "      channel.send({})\n",
              "\n",
              "      for await (const message of channel.messages) {\n",
              "        // Send a message to notify the kernel that we're ready.\n",
              "        channel.send({})\n",
              "        if (message.buffers) {\n",
              "          for (const buffer of message.buffers) {\n",
              "            buffers.push(buffer);\n",
              "            downloaded += buffer.byteLength;\n",
              "            progress.value = downloaded;\n",
              "          }\n",
              "        }\n",
              "      }\n",
              "      const blob = new Blob(buffers, {type: 'application/binary'});\n",
              "      const a = document.createElement('a');\n",
              "      a.href = window.URL.createObjectURL(blob);\n",
              "      a.download = filename;\n",
              "      div.appendChild(a);\n",
              "      a.click();\n",
              "      div.remove();\n",
              "    }\n",
              "  "
            ],
            "text/plain": [
              "<IPython.core.display.Javascript object>"
            ]
          },
          "metadata": {}
        },
        {
          "output_type": "display_data",
          "data": {
            "application/javascript": [
              "download(\"download_9e9b9295-4f7c-4177-90e7-90cfe279b5d8\", \"net.pt\", 117939039)"
            ],
            "text/plain": [
              "<IPython.core.display.Javascript object>"
            ]
          },
          "metadata": {}
        },
        {
          "output_type": "display_data",
          "data": {
            "application/javascript": [
              "\n",
              "    async function download(id, filename, size) {\n",
              "      if (!google.colab.kernel.accessAllowed) {\n",
              "        return;\n",
              "      }\n",
              "      const div = document.createElement('div');\n",
              "      const label = document.createElement('label');\n",
              "      label.textContent = `Downloading \"${filename}\": `;\n",
              "      div.appendChild(label);\n",
              "      const progress = document.createElement('progress');\n",
              "      progress.max = size;\n",
              "      div.appendChild(progress);\n",
              "      document.body.appendChild(div);\n",
              "\n",
              "      const buffers = [];\n",
              "      let downloaded = 0;\n",
              "\n",
              "      const channel = await google.colab.kernel.comms.open(id);\n",
              "      // Send a message to notify the kernel that we're ready.\n",
              "      channel.send({})\n",
              "\n",
              "      for await (const message of channel.messages) {\n",
              "        // Send a message to notify the kernel that we're ready.\n",
              "        channel.send({})\n",
              "        if (message.buffers) {\n",
              "          for (const buffer of message.buffers) {\n",
              "            buffers.push(buffer);\n",
              "            downloaded += buffer.byteLength;\n",
              "            progress.value = downloaded;\n",
              "          }\n",
              "        }\n",
              "      }\n",
              "      const blob = new Blob(buffers, {type: 'application/binary'});\n",
              "      const a = document.createElement('a');\n",
              "      a.href = window.URL.createObjectURL(blob);\n",
              "      a.download = filename;\n",
              "      div.appendChild(a);\n",
              "      a.click();\n",
              "      div.remove();\n",
              "    }\n",
              "  "
            ],
            "text/plain": [
              "<IPython.core.display.Javascript object>"
            ]
          },
          "metadata": {}
        },
        {
          "output_type": "display_data",
          "data": {
            "application/javascript": [
              "download(\"download_67c8f20f-0798-4ad0-9c5c-fdcb4aa3ed7c\", \"net_final.pt\", 117939039)"
            ],
            "text/plain": [
              "<IPython.core.display.Javascript object>"
            ]
          },
          "metadata": {}
        }
      ],
      "source": [
        "from google.colab import files\n",
        "files.download('net.pt') \n",
        "files.download('net_final.pt') "
      ]
    },
    {
      "cell_type": "markdown",
      "metadata": {
        "id": "eCGUBGF0xoV3"
      },
      "source": [
        "# Visualize the results on test dataset\n"
      ]
    },
    {
      "cell_type": "code",
      "execution_count": null,
      "metadata": {
        "id": "kA9G_jYhf-fB",
        "colab": {
          "base_uri": "https://localhost:8080/"
        },
        "outputId": "7559a5c4-dbde-4802-beaf-c78f480c884c"
      },
      "outputs": [
        {
          "output_type": "execute_result",
          "data": {
            "text/plain": [
              "<All keys matched successfully>"
            ]
          },
          "metadata": {},
          "execution_count": 46
        }
      ],
      "source": [
        "#load the best model\n",
        "net.load_state_dict(torch.load('net.pt'))"
      ]
    },
    {
      "cell_type": "code",
      "execution_count": null,
      "metadata": {
        "id": "taJCeCNE8b9t",
        "colab": {
          "base_uri": "https://localhost:8080/"
        },
        "outputId": "4afd316e-c8a2-493a-e31f-6b8e3ca50bba"
      },
      "outputs": [
        {
          "output_type": "stream",
          "name": "stderr",
          "text": [
            "100%|██████████| 38/38 [26:03<00:00, 41.15s/it]"
          ]
        },
        {
          "output_type": "stream",
          "name": "stdout",
          "text": [
            "\tTest Loss: 5.310 | Test IoU: 0.6826219788773109\n"
          ]
        },
        {
          "output_type": "stream",
          "name": "stderr",
          "text": [
            "\n"
          ]
        }
      ],
      "source": [
        "test_loss,test_iou = evaluation(net, test_loader, device,label_dic)\n",
        "print(f'\\tTest Loss: {test_loss:.3f} | Test IoU: {test_iou}')"
      ]
    },
    {
      "cell_type": "code",
      "execution_count": null,
      "metadata": {
        "id": "q9iX6mt6d1nB"
      },
      "outputs": [],
      "source": [
        "# print some sample test output and ground\n",
        "x,y = iter(test_loader).next()\n",
        "img = gen_images(x)\n",
        "img = img.to(device).type(torch.float)\n",
        "mask = gen_mask_train(y,label_dic)\n",
        "mask = mask.to(device)\n",
        "\n",
        "net.eval()\n",
        "with torch.no_grad():\n",
        "  y_pred = net(img)"
      ]
    },
    {
      "cell_type": "code",
      "execution_count": null,
      "metadata": {
        "id": "64iAczyQDJoC",
        "colab": {
          "base_uri": "https://localhost:8080/",
          "height": 465
        },
        "outputId": "44f1b8a1-c7d9-4d59-d64a-4d3222584ee3"
      },
      "outputs": [
        {
          "output_type": "display_data",
          "data": {
            "image/png": "[encoded data removed]",
            "text/plain": [
              "<Figure size 720x720 with 8 Axes>"
            ]
          },
          "metadata": {
            "needs_background": "light"
          }
        }
      ],
      "source": [
        "fig = plt.figure(figsize = (10,10))\n",
        "\n",
        "for i in range(11,15):\n",
        "  ax = fig.add_subplot(2, n_images, i-10)\n",
        "  visualization = visual_label(mask[i,:,:].cpu().numpy(),labels_used)\n",
        "  ax.imshow(visualization)\n",
        "  ax.set_title('Ground Truth')\n",
        "  ax.axis('off')\n",
        "\n",
        "  ax = fig.add_subplot(2, n_images, i-6)\n",
        "  y_test = y_pred.permute(0,2,3,1)[i,:,:,:].cpu().numpy()\n",
        "  visual_test = visual_label(np.argmax(y_test,axis=2),labels_used)\n",
        "  ax.imshow(visual_test)\n",
        "  ax.set_title('Predicted')\n",
        "  ax.axis('off')"
      ]
    },
    {
      "cell_type": "code",
      "source": [
        ""
      ],
      "metadata": {
        "id": "NtNLl22C3jzd"
      },
      "execution_count": null,
      "outputs": []
    }
  ],
  "metadata": {
    "accelerator": "GPU",
    "colab": {
      "collapsed_sections": [],
      "name": "SegNet_and_IAL.ipynb",
      "provenance": [],
      "machine_shape": "hm"
    },
    "kernelspec": {
      "display_name": "Python 3",
      "name": "python3"
    },
    "language_info": {
      "name": "python"
    }
  },
  "nbformat": 4,
  "nbformat_minor": 0
}